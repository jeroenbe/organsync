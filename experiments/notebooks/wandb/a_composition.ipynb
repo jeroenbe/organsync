{
 "cells": [
  {
   "cell_type": "code",
   "execution_count": null,
   "metadata": {},
   "outputs": [],
   "source": [
    "%reload_ext autoreload\n",
    "%autoreload 2\n",
    "%matplotlib inline\n",
    "\n",
    "\n",
    "\n",
    "import os, math\n",
    "import joblib\n",
    "from joblib import Parallel, delayed\n",
    "import sys\n",
    "from pathlib import Path\n",
    "\n",
    "dir_path = Path(os.getcwd()).absolute()\n",
    "module_path = str(dir_path.parent.parent.parent)\n",
    "\n",
    "if module_path not in sys.path:\n",
    "    sys.path.append(module_path)\n",
    "    \n",
    "import numpy as np\n",
    "import pandas as pd\n",
    "import cvxpy as cp\n",
    "import torch\n",
    "\n",
    "import pytorch_lightning as pl\n",
    "\n",
    "import matplotlib\n",
    "from matplotlib import rc\n",
    "import matplotlib.pyplot as plt\n",
    "from matplotlib.ticker import FuncFormatter\n",
    "from pathlib import Path\n",
    "\n",
    "# OWN MODULES\n",
    "from organsync.models.organsync_network import OrganSync_Network\n",
    "\n",
    "from experiments.data.utils import get_data_tuples\n",
    "from experiments.data.data_module import UNOSDataModule, UKRegDataModule, UNOS2UKRegDataModule\n",
    "\n",
    "\n",
    "rc('text', usetex=True)\n",
    "rc('font', family='serif')\n",
    "torch.manual_seed(0)"
   ]
  },
  {
   "cell_type": "code",
   "execution_count": null,
   "metadata": {},
   "outputs": [],
   "source": [
    "data = 'U2U'\n",
    "batch_size = 256\n",
    "synth=True\n",
    "\n",
    "if data == 'UNOS':\n",
    "    project = 'organsync-net'\n",
    "    data_dir = '../data/processed'\n",
    "    dm = UNOSDataModule(data_dir, batch_size=batch_size, is_synth=synth)\n",
    "elif data == 'U2U':\n",
    "    project = 'organsync-net-u2u'\n",
    "    data_dir = '../data/processed_UNOS2UKReg_no_split'\n",
    "    dm = UNOS2UKRegDataModule(data_dir, batch_size=batch_size, is_synth=synth, control=False)\n",
    "    dm.prepare_data()\n",
    "else:\n",
    "    project = 'organsync-net-ukreg'\n",
    "    data_dir = '../data/processed_UKReg/clinical_ukeld_2_ukeld'\n",
    "    dm = UKRegDataModule(data_dir, batch_size=batch_size, is_synth=synth)\n",
    "    dm.prepare_data()\n",
    "    "
   ]
  },
  {
   "cell_type": "code",
   "execution_count": null,
   "metadata": {},
   "outputs": [],
   "source": [
    "dm.setup(stage='fit')\n",
    "dm.setup(stage='test')\n",
    "\n",
    "\n",
    "dm.train_dataloader().dataset.dataset.tensors[1].size(0) + dm.val_dataloader().dataset.dataset.tensors[1].size(0)+ dm.test_dataloader().dataset.tensors[1].size(0)"
   ]
  },
  {
   "cell_type": "code",
   "execution_count": null,
   "metadata": {},
   "outputs": [],
   "source": [
    "dm._train_processed"
   ]
  },
  {
   "cell_type": "code",
   "execution_count": null,
   "metadata": {},
   "outputs": [],
   "source": [
    "model_id = '30iz1r27'\n",
    "params = wandb.restore(f'organsync_net.ckpt.ckpt', run_path=f'jeroenbe/{project}/{model_id}', replace=True)\n",
    "model = OrganSync_Network.load_from_checkpoint(params.name).double()\n",
    "trainer = pl.Trainer()\n",
    "#trainer.test(model, datamodule=dm)"
   ]
  },
  {
   "cell_type": "code",
   "execution_count": null,
   "metadata": {},
   "outputs": [],
   "source": [
    "dm.setup(stage='test')\n",
    "dm.setup(stage='fit')"
   ]
  },
  {
   "cell_type": "code",
   "execution_count": null,
   "metadata": {},
   "outputs": [],
   "source": [
    "train_length = len(dm.train_dataloader().dataset.dataset)\n",
    "X, O, Y, delt = dm.train_dataloader().dataset.dataset[torch.randint(0, train_length,  (500,))]#\n",
    "\n",
    "catted = torch.cat((X, O), dim=1).double()\n",
    "\n",
    "\n",
    "with torch.no_grad():\n",
    "    U = model.representation(catted)"
   ]
  },
  {
   "cell_type": "code",
   "execution_count": null,
   "metadata": {
    "scrolled": false
   },
   "outputs": [],
   "source": [
    "n = 50\n",
    "test_length = len(dm.test_dataloader().dataset)\n",
    "\n",
    "with torch.no_grad():\n",
    "    X_new, O_new, Y_, delt_= dm.test_dataloader().dataset[torch.randint(0, test_length,  (n,))]\n",
    "    new_pair = torch.cat((X_new, O_new), dim=1).double() \n",
    "    u = model.representation(new_pair) # synth_u\n",
    "    "
   ]
  },
  {
   "cell_type": "code",
   "execution_count": null,
   "metadata": {},
   "outputs": [],
   "source": [
    "lambd=np.linspace(0, .2, 11)\n",
    "result=dict()\n",
    "\n",
    "\n",
    "def convex_opt(u, lambd):\n",
    "    a = cp.Variable(U.shape[0])\n",
    "\n",
    "    objective = cp.Minimize(cp.norm2(a@U - u)**2 + lambd * cp.norm1(a))\n",
    "    constraints = [0 <= a, a <= 1, cp.sum(a) == 1]\n",
    "    prob = cp.Problem(objective, constraints)\n",
    "\n",
    "    _ = prob.solve(warm_start=True, solver=cp.SCS)\n",
    "\n",
    "    return a.value, (a.value @ Y.numpy()).item()\n",
    "\n",
    "for l in lambd:\n",
    "    res = Parallel(n_jobs=joblib.cpu_count())(delayed(convex_opt)(u_, l) for u_ in u)\n",
    "    result[f'lambda: {l}'] = res"
   ]
  },
  {
   "cell_type": "code",
   "execution_count": null,
   "metadata": {},
   "outputs": [],
   "source": [
    "RES = result#.shape# = np.array(result, dtype=object)"
   ]
  },
  {
   "cell_type": "code",
   "execution_count": null,
   "metadata": {},
   "outputs": [],
   "source": [
    "synth_rmse = np.array([])\n",
    "synth_diff = np.array([])\n",
    "synth_diff_std = np.array([])\n",
    "synth_std = np.array([])\n",
    "avg_a = np.array([])\n",
    "std_a = np.array([])\n",
    "\n",
    "avg_top_a = np.array([])\n",
    "std_top_a = np.array([])\n",
    "\n",
    "for k in RES.keys():\n",
    "    y_ = np.array(RES[k], dtype=object)[:,1].astype(float)\n",
    "    y_diff = y_ * dm.std + dm.mean\n",
    "    \n",
    "    rmse = np.sqrt((y_ - Y_.numpy())**2)\n",
    "    rmse_diff = np.abs(y_diff - (Y_.numpy() * dm.std + dm.mean))\n",
    "    \n",
    "    synth_rmse = np.append(synth_rmse, rmse.mean())\n",
    "    synth_std = np.append(synth_std, rmse.std())\n",
    "    \n",
    "    synth_diff = np.append(synth_diff, rmse_diff.mean())\n",
    "    synth_diff_std = np.append(synth_diff_std, synth_diff.std())\n",
    "    \n",
    "    \n",
    "    a_s = np.array([*np.array(RES[k], dtype=object)[:,0]])\n",
    "    as_3 = np.where(a_s > 1e-5, a_s, np.zeros(a_s.shape))\n",
    "\n",
    "    as_3_nz = np.count_nonzero(as_3, axis=1)\n",
    "    \n",
    "    avg_a = np.append(avg_a, as_3_nz.mean())\n",
    "    std_a = np.append(std_a, as_3_nz.std())\n",
    "    \n",
    "    k=50\n",
    "    top_k = np.partition(a_s,-k, axis=1)[:,-k:]\n",
    "    avg_top_a = np.append(avg_top_a, top_k.mean())\n",
    "    std_top_a = np.append(std_top_a, top_k.std())\n",
    "    \n",
    "    "
   ]
  },
  {
   "cell_type": "code",
   "execution_count": null,
   "metadata": {},
   "outputs": [],
   "source": [
    "print(synth_rmse)\n",
    "print(synth_std / np.sqrt(n))\n",
    "print('---')\n",
    "\n",
    "print(avg_a)\n",
    "print(std_a / np.sqrt(n))"
   ]
  },
  {
   "cell_type": "code",
   "execution_count": null,
   "metadata": {},
   "outputs": [],
   "source": [
    "def my_formatter(x, pos):\n",
    "    \"\"\"Format 1 as 1, 0 as 0, and all values whose absolute values is between\n",
    "    0 and 1 without the leading \"0.\" (e.g., 0.7 is formatted as .7 and -0.4 is\n",
    "    formatted as -.4).\"\"\"\n",
    "    val_str = '{:g}'.format(x)\n",
    "    if np.abs(x) > 0 and np.abs(x) < 1:\n",
    "        return val_str.replace(\"0\", \"\", 1)\n",
    "    else:\n",
    "        return val_str\n",
    "\n",
    "major_formatter = FuncFormatter(my_formatter)\n",
    "\n",
    "\n",
    "# FIGURE\n",
    "fig, ax1 = plt.subplots(1,1, figsize=(8,6))\n",
    "\n",
    "ax2 = ax1.twinx()\n",
    "\n",
    "line_kwargs = {\n",
    "    'capsize': 5, 'linewidth': 5, 'marker':'D', 'elinewidth': 1.5, 'markersize':15\n",
    "}\n",
    "\n",
    "blue='#0066CC'\n",
    "green='#00FF80'\n",
    "\n",
    "\n",
    "ax1.errorbar(lambd, synth_rmse, synth_std/np.sqrt(n), color=blue, **line_kwargs)\n",
    "ax2.errorbar(lambd, avg_a, std_a/np.sqrt(n), color=green, linestyle='--', **line_kwargs)\n",
    "\n",
    "\n",
    "ax1.set_ylim([0, 1e-04])\n",
    "ax1.set_yticks([0, 5e-5, 1e-4])\n",
    "ax1.set_yticklabels([0,  5e-5, 1e-4], fontsize=25, color=blue)\n",
    "ax1.set_ylabel('n-RMSE', fontsize=30)\n",
    "ax1.set_xlabel(r'$\\lambda$', fontsize=30)\n",
    "ax1.set_xticks(lambd)\n",
    "ax1.set_xticklabels(lambd, fontsize=25)\n",
    "ax1.xaxis.set_major_formatter(major_formatter)\n",
    "ax1.set_title(f'UNOS (semi-synth.)', fontsize=35)\n",
    "\n",
    "\n",
    "ax2.set_ylabel(r'$|\\mathbf{a}_\\mathtt{>1e-5}|$', fontsize=30)\n",
    "ax2.set_yticks(np.linspace(250, 400, 3))\n",
    "ax2.set_yticklabels(np.linspace(250, 400, 3).astype(int), fontsize=25, color='#00CC66')\n",
    "\n",
    "fig.savefig(f'{data}_synth_a.pdf', bbox_inches = \"tight\")"
   ]
  },
  {
   "cell_type": "code",
   "execution_count": null,
   "metadata": {},
   "outputs": [],
   "source": []
  }
 ],
 "metadata": {
  "kernelspec": {
   "display_name": "organsync",
   "language": "python",
   "name": "organsync"
  },
  "language_info": {
   "codemirror_mode": {
    "name": "ipython",
    "version": 3
   },
   "file_extension": ".py",
   "mimetype": "text/x-python",
   "name": "python",
   "nbconvert_exporter": "python",
   "pygments_lexer": "ipython3",
   "version": "3.8.12"
  }
 },
 "nbformat": 4,
 "nbformat_minor": 4
}
