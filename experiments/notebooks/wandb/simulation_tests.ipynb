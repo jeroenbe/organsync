{
 "cells": [
  {
   "cell_type": "code",
   "execution_count": null,
   "metadata": {},
   "outputs": [],
   "source": [
    "%reload_ext autoreload\n",
    "%autoreload 2\n",
    "\n",
    "import os, math, heapq\n",
    "import joblib\n",
    "from joblib import Parallel, delayed, load\n",
    "\n",
    "import sys\n",
    "from pathlib import Path\n",
    "\n",
    "dir_path = Path(os.getcwd()).absolute()\n",
    "module_path = str(dir_path.parent.parent.parent)\n",
    "\n",
    "if module_path not in sys.path:\n",
    "    sys.path.append(module_path)\n",
    "    \n",
    "import numpy as np\n",
    "import pandas as pd\n",
    "import cvxpy as cp\n",
    "import torch, wandb, lifelines\n",
    "\n",
    "import pytorch_lightning as pl\n",
    "pl.utilities.seed.seed_everything(seed=42)\n",
    "\n",
    "from sklearn.cluster import KMeans\n",
    "from sklearn.preprocessing import OneHotEncoder\n",
    "from sklearn.metrics import mean_squared_error\n",
    "\n",
    "import matplotlib.pyplot as plt\n",
    "\n",
    "# OWN MODULES\n",
    "from experiments.data.utils import get_data_tuples\n",
    "from experiments.data.data_module import UNOSDataModule, UKRegDataModule, UNOS2UKRegDataModule\n",
    "from organsync.models.organsync_network import OrganSync_Network\n",
    "from organsync.models.organite_network import OrganITE_Network_VAE, OrganITE_Network\n",
    "from organsync.models.transplantbenefit import UKELDModel\n",
    "from organsync.models.confidentmatch import ConfidentMatch as ConfidentMatch_Network\n",
    "\n",
    "from organsync.policies import MELD, MELD_na, FIFO, OrganSync, OrganSyncMax, OrganITE, TransplantBenefit, ConfidentMatch\n",
    "from organsync.models.inference import Inference_ConfidentMatch, Inference_OrganITE, Inference_OrganITE_VAE, Inference_OrganSync, Inference_ConfidentMatch, Inference_TransplantBenefit\n",
    "from organsync.simulation import Sim"
   ]
  },
  {
   "cell_type": "code",
   "execution_count": null,
   "metadata": {},
   "outputs": [],
   "source": [
    "# SETUP DATA\n",
    "\n",
    "data = 'U2U'\n",
    "batch_size = 256\n",
    "\n",
    "if data == 'UNOS':\n",
    "    project = 'organsync-net'\n",
    "    data_dir = '../data/processed'\n",
    "    dm = UNOSDataModule(data_dir, batch_size=batch_size)\n",
    "elif data == 'U2U':\n",
    "    project = 'organsync-net-u2u'\n",
    "    project_vae = 'organsync-organite-pnet-u2u'\n",
    "    project_oite = 'organsync-organite-net-u2u'\n",
    "    project_cm = 'organsync-cm-u2u'\n",
    "    project_tb = 'organsync-tb-u2u'\n",
    "    data_dir = '../data/processed_UNOS2UKReg_no_split'\n",
    "    model_id_0 = '17t1b4qq'\n",
    "    model_id_1 = 'iyzdtu8l'\n",
    "    \n",
    "    model_tb_id = 'gowo2lt0'\n",
    "    model_tb_id_0 = '3pbz6quu'\n",
    "    model_vae_id = 'fq0niu48'\n",
    "    model_oite_id = 'ase8ebrm'\n",
    "    model_cm = './u2u_cm'\n",
    "    dm = UNOS2UKRegDataModule(data_dir, batch_size=batch_size, control=False)\n",
    "    dm_control = UNOS2UKRegDataModule(data_dir, batch_size=batch_size, control=True)\n",
    "else:\n",
    "    project = 'organsync-net-ukreg'\n",
    "    project_vae = 'organsync-organite-pnet-ukreg'\n",
    "    project_oite = 'organsync-organite-net-ukreg'\n",
    "    project_cm = 'organsync-cm-ukreg'\n",
    "    project_tb = 'organsync-tb-ukreg'\n",
    "    data_dir = '../data/processed_UKReg/clinical_ukeld_2_ukeld'\n",
    "    model_id_0 = '2gsswo91'\n",
    "    model_id_1 = '8298slm5'\n",
    "    model_tb_id = 'kexhhfry'\n",
    "    model_tb_id_0 = 'w3cgeh30'\n",
    "    model_vae_id = 'jx1xmfgr'\n",
    "    model_oite_id = 'or6o700x'\n",
    "    model_cm = './ukreg_cm'\n",
    "    dm = UKRegDataModule(data_dir, batch_size=batch_size, control=False)\n",
    "    dm_control = UKRegDataModule(data_dir, batch_size=batch_size, control=True)\n",
    "    \n",
    "dm_control.prepare_data()\n",
    "dm_control.setup(stage='fit')\n",
    "\n",
    "dm.prepare_data()\n",
    "dm.setup(stage='fit')"
   ]
  },
  {
   "cell_type": "code",
   "execution_count": null,
   "metadata": {},
   "outputs": [],
   "source": [
    "# INFERENCE LOADING\n",
    "# OrganSync\n",
    "\n",
    "\n",
    "params_0 = wandb.restore(f'organsync_net.ckpt-v0.ckpt', run_path=f'jeroenbe/{project}/{model_id_0}', replace=True)\n",
    "model_0 = OrganSync_Network.load_from_checkpoint(params_0.name).double()\n",
    "\n",
    "params_1 = wandb.restore(f'organsync_net.ckpt-v0.ckpt', run_path=f'jeroenbe/{project}/{model_id_1}', replace=True)\n",
    "model_1 = OrganSync_Network.load_from_checkpoint(params_1.name).double()\n",
    "\n",
    "trainer_0 = pl.Trainer()\n",
    "trainer_1 = pl.Trainer()\n",
    "\n",
    "trainer_0.datamodule = dm_control\n",
    "trainer_1.datamodule = dm\n",
    "model_0.trainer = trainer_0\n",
    "model_1.trainer = trainer_1\n",
    "\n",
    "inference_0 = Inference_OrganSync(model=model_0, mean=dm_control.mean, std=dm_control.std)\n",
    "inference_1 = Inference_OrganSync(model=model_1, mean=dm.mean, std=dm.std)\n",
    "\n",
    "lambd = .1\n",
    "\n",
    "inference_0.model.lambd = lambd\n",
    "inference_1.model.lambd = lambd\n",
    "\n",
    "# ConfidentMatch\n",
    "cm_kwargs = {'k': 1, 'x_col': dm.x_cols, 'y_col': 'Y', 'H': {}}\n",
    "cm = ConfidentMatch_Network(data=dm._train_processed, o_col=dm.o_cols, **cm_kwargs)\n",
    "cm.load(model_cm)\n",
    "inference_cm = Inference_ConfidentMatch(model=cm, mean=dm.mean, std=dm.std)\n",
    "\n",
    "# TransplantBenefit\n",
    "\n",
    "params_tb = wandb.restore(f'{data}_cph', run_path=f'jeroenbe/{project_tb}/{model_tb_id}', replace=True)\n",
    "params_tb_0 = wandb.restore(f'{data}_cph', run_path=f'jeroenbe/{project_tb}/{model_tb_id_0}', replace=True)\n",
    "cph = load(params_tb.name)# TransplantBenefit\n",
    "cph_0 = load(params_tb_0.name)# TransplantBenefit\n",
    "cols = np.union1d(dm.x_cols, dm.o_cols)\n",
    "cols = cols[cols != 'CENS']\n",
    "cols_0 = dm.x_cols\n",
    "cols_0 = cols_0[cols_0!='CENS']\n",
    "ukeld = UKELDModel(data=dm._train_processed, cols=cols, censor_col='CENS', duration_col='Y')\n",
    "ukeld_0 = UKELDModel(data=dm_control._train_processed, cols=cols_0, censor_col='CENS', duration_col='Y')\n",
    "ukeld.cph = cph\n",
    "ukeld_0.cph = cph_0\n",
    "inference_tb = Inference_TransplantBenefit(model=[ukeld_0, ukeld], mean=dm.mean, std=dm.std)\n",
    "\n",
    "\n",
    "\n",
    "# OrganITE\n",
    "\n",
    "params_vae = wandb.restore(f'organite_vae_net.ckpt', run_path=f'jeroenbe/{project_vae}/{model_vae_id}', replace=True)\n",
    "O_VAE = OrganITE_Network_VAE.load_from_checkpoint(params_vae.name).double()\n",
    "inference_oite_vae = Inference_OrganITE_VAE(model=O_VAE, mean=dm.mean, std=dm.std)\n",
    "inference_oite_vae.model.trainer = trainer_1\n",
    "\n",
    "\n",
    "params_oite = wandb.restore(f'organite_net.ckpt-v0.ckpt', run_path=f'jeroenbe/{project_oite}/{model_oite_id}', replace=True) \n",
    "organite_net = OrganITE_Network.load_from_checkpoint(params_oite.name).double()\n",
    "inference_oite = Inference_OrganITE(model=organite_net, mean=dm.mean, std=dm.std)\n",
    "inference_oite.model.trainer = trainer_1\n"
   ]
  },
  {
   "cell_type": "code",
   "execution_count": null,
   "metadata": {},
   "outputs": [],
   "source": [
    "# Please adjust to the setting you wish to test\n",
    "# values presented are those used on our ICML21 \n",
    "# paper\n",
    "\n",
    "sim_params = {\n",
    "    'dm': dm, 'inference_0': inference_0, 'inference_1': inference_1, \n",
    "    'initial_waitlist_size': 170, \n",
    "    'organ_deficit': .8,\n",
    "    'patient_count': 700\n",
    "}"
   ]
  },
  {
   "cell_type": "code",
   "execution_count": null,
   "metadata": {},
   "outputs": [],
   "source": [
    "sim_tb = Sim(**sim_params)\n",
    "tb = TransplantBenefit(inference=inference_tb, name='TransplantBenefit', initial_waitlist=[p.id for p in sim_tb.waitlist], dm=dm)\n",
    "\n",
    "stats_tb = sim_tb.simulate(tb)"
   ]
  },
  {
   "cell_type": "code",
   "execution_count": null,
   "metadata": {},
   "outputs": [],
   "source": [
    "sim_na = Sim(**sim_params)\n",
    "meld_na = MELD_na(name='MELD-na', initial_waitlist=[p.id for p in sim_na.waitlist], dm=dm)\n",
    "\n",
    "stats_na = sim_na.simulate(meld_na)"
   ]
  },
  {
   "cell_type": "code",
   "execution_count": null,
   "metadata": {},
   "outputs": [],
   "source": [
    "sim_m = Sim(**sim_params)\n",
    "meld = MELD(name='MELD', initial_waitlist=[p.id for p in sim_m.waitlist], dm=dm)\n",
    "\n",
    "stats_m = sim_m.simulate(meld)"
   ]
  },
  {
   "cell_type": "code",
   "execution_count": null,
   "metadata": {},
   "outputs": [],
   "source": [
    "sim_f = Sim(**sim_params)\n",
    "fifo = FIFO(name='FIFO', initial_waitlist=[p.id for p in sim_f.waitlist], dm=dm)\n",
    "\n",
    "stats_f = sim_f.simulate(fifo)"
   ]
  },
  {
   "cell_type": "code",
   "execution_count": null,
   "metadata": {},
   "outputs": [],
   "source": [
    "sim_cm = Sim(**sim_params)\n",
    "cm_policy = ConfidentMatch(inference=inference_cm, name='ConfidentMatch', initial_waitlist=[p.id for p in sim_cm.waitlist], dm=dm)\n",
    "\n",
    "stats_cm = sim_cm.simulate(cm_policy)"
   ]
  },
  {
   "cell_type": "code",
   "execution_count": null,
   "metadata": {},
   "outputs": [],
   "source": [
    "sim_organite = Sim(**sim_params)\n",
    "organite = OrganITE(\n",
    "    name='O-ITE', \n",
    "    initial_waitlist=[p.id for p in sim_organite.waitlist], \n",
    "    dm=dm, inference_ITE=inference_oite, inference_VAE=inference_oite_vae)\n",
    "\n",
    "stats_oite = sim_organite.simulate(organite)"
   ]
  },
  {
   "cell_type": "code",
   "execution_count": null,
   "metadata": {
    "scrolled": true
   },
   "outputs": [],
   "source": [
    "sim_organsync = Sim(**sim_params)\n",
    "organsync = OrganSync(\n",
    "    name='O-Sync', \n",
    "    initial_waitlist=[p.id for p in sim_organsync.waitlist], \n",
    "    dm=dm, K=10, inference_0=inference_0, inference_1=inference_1)\n",
    "\n",
    "stats_os = sim_organsync.simulate(organsync)"
   ]
  },
  {
   "cell_type": "code",
   "execution_count": null,
   "metadata": {},
   "outputs": [],
   "source": [
    "print(f'OrganSync\\n - - - \\n{stats_os}\\n_________')\n",
    "print(f'OrganITE\\n - - - \\n{stats_oite}\\n_________')\n",
    "print(f'CM\\n - - - \\n{stats_cm}\\n_________')\n",
    "print(f'TransplantBenefit\\n - - - \\n{stats_tb}\\n_________')\n",
    "print(f'MELD\\n - - - \\n{stats_m}\\n_________')\n",
    "print(f'MELD-na\\n - - - \\n{stats_na}\\n_________')\n",
    "print(f'FIFO\\n - - - \\n{stats_f}\\n_________')"
   ]
  },
  {
   "cell_type": "code",
   "execution_count": null,
   "metadata": {},
   "outputs": [],
   "source": [
    "{i: len(organsync.queues[i]) for i in organsync.queues.keys()}"
   ]
  },
  {
   "cell_type": "code",
   "execution_count": null,
   "metadata": {},
   "outputs": [],
   "source": [
    "#print(f'CM\\n - - - \\n{stats_cm}\\n_________')\n",
    "print(f'OrganITE\\n - - - \\n{stats_oite}\\n_________')"
   ]
  },
  {
   "cell_type": "code",
   "execution_count": null,
   "metadata": {},
   "outputs": [],
   "source": [
    "sim_na.waitlist"
   ]
  },
  {
   "cell_type": "code",
   "execution_count": null,
   "metadata": {},
   "outputs": [],
   "source": [
    "# .2 | 450 | 2000 | -10\n",
    "\n",
    "len(dm.o_cols)"
   ]
  },
  {
   "cell_type": "code",
   "execution_count": null,
   "metadata": {},
   "outputs": [],
   "source": [
    "organite.dm"
   ]
  },
  {
   "cell_type": "code",
   "execution_count": null,
   "metadata": {},
   "outputs": [],
   "source": []
  },
  {
   "cell_type": "code",
   "execution_count": null,
   "metadata": {},
   "outputs": [],
   "source": [
    "np.empty(1, 0)"
   ]
  },
  {
   "cell_type": "code",
   "execution_count": null,
   "metadata": {},
   "outputs": [],
   "source": []
  }
 ],
 "metadata": {
  "kernelspec": {
   "display_name": "organsync",
   "language": "python",
   "name": "organsync"
  },
  "language_info": {
   "codemirror_mode": {
    "name": "ipython",
    "version": 3
   },
   "file_extension": ".py",
   "mimetype": "text/x-python",
   "name": "python",
   "nbconvert_exporter": "python",
   "pygments_lexer": "ipython3",
   "version": "3.8.12"
  }
 },
 "nbformat": 4,
 "nbformat_minor": 4
}
