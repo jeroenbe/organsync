{
 "cells": [
  {
   "cell_type": "code",
   "execution_count": null,
   "metadata": {},
   "outputs": [],
   "source": [
    "%reload_ext autoreload\n",
    "%autoreload 2\n",
    "\n",
    "import os\n",
    "import sys\n",
    "from pathlib import Path\n",
    "\n",
    "dir_path = Path(os.getcwd()).absolute()\n",
    "module_path = str(dir_path.parent.parent.parent) # repo root\n",
    "if module_path not in sys.path:\n",
    "    sys.path.append(module_path)\n",
    "    \n",
    "import numpy as np\n",
    "import pandas as pd\n",
    "import torch, lifelines\n",
    "\n",
    "import pytorch_lightning as pl\n",
    "pl.utilities.seed.seed_everything(seed=42)\n",
    "\n",
    "import matplotlib.pyplot as plt\n",
    "from pytorch_lightning import Trainer\n",
    "\n",
    "# OWN MODULES\n",
    "from experiments.data.data_module import UKRegDataModule\n",
    "from organsync.models.organsync_network import OrganSync_Network\n",
    "from organsync.models.organite_network import  OrganITE_Network\n",
    "from organsync.models.inference import Inference_OrganITE, Inference_OrganSync\n",
    "\n",
    "import warnings\n",
    "warnings.filterwarnings('ignore')\n"
   ]
  },
  {
   "cell_type": "code",
   "execution_count": null,
   "metadata": {},
   "outputs": [],
   "source": [
    "# SETUP DATA\n",
    "\n",
    "batch_size = 256\n",
    "\n",
    "root_data_dir = Path(\"../datasets\").absolute()\n",
    "\n",
    "data_dir = root_data_dir / \"processed_UKReg\" # replace with your path to the processed UKReg dataset\n",
    "\n",
    "dm = UKRegDataModule(data_dir, batch_size=batch_size, control=False)\n",
    "dm.prepare_data()\n",
    "dm.setup(stage='fit')\n",
    "\n",
    "dm._train_processed"
   ]
  },
  {
   "cell_type": "markdown",
   "metadata": {},
   "source": [
    "# OrganITE"
   ]
  },
  {
   "cell_type": "code",
   "execution_count": null,
   "metadata": {},
   "outputs": [],
   "source": [
    "# OrganITE\n",
    "\n",
    "input_dim = dm.size(1)\n",
    "hidden_dim=16\n",
    "num_hidden_layers=4\n",
    "output_dim=6\n",
    "lr=0.007\n",
    "gamma=0.79\n",
    "lambd=0.15\n",
    "kappa=0.15\n",
    "weight_decay=0.0006\n",
    "n_clusters=15\n",
    "activation_type=\"leaky_relu\"\n",
    "dropout_prob=0.11\n",
    "epochs = 100\n",
    "\n",
    "organite_model = OrganITE_Network(\n",
    "             input_dim=input_dim,\n",
    "             hidden_dim=hidden_dim,\n",
    "             num_hidden_layers=num_hidden_layers,\n",
    "             output_dim=output_dim,\n",
    "             lr=lr,\n",
    "             gamma=gamma,\n",
    "             lambd=lambd,\n",
    "             kappa=kappa,\n",
    "             weight_decay=weight_decay,\n",
    "             n_clusters=n_clusters,\n",
    "             activation_type=activation_type,\n",
    "             dropout_prob=dropout_prob,\n",
    ").double()\n",
    "\n",
    "dm.setup(stage='fit')\n",
    "organite_trainer = Trainer(callbacks=[], max_epochs=epochs)\n",
    "organite_trainer.fit(organite_model, datamodule=dm)\n",
    "\n",
    "dm.setup(stage='test')\n",
    "organite_trainer.test(datamodule=dm)"
   ]
  },
  {
   "cell_type": "code",
   "execution_count": null,
   "metadata": {},
   "outputs": [],
   "source": [
    "import cloudpickle\n",
    "\n",
    "organite_model.eval()\n",
    "inference_oite = Inference_OrganITE(model=organite_model, mean=dm.mean, std=dm.std)\n",
    "\n",
    "del organite_model.trainer\n",
    "organite_model.trainer = None\n",
    "\n",
    "with open(\"models/organite_inference.p\", \"wb\") as f:\n",
    "    cloudpickle.dump(inference_oite, f)\n"
   ]
  },
  {
   "cell_type": "markdown",
   "metadata": {},
   "source": [
    "# OrganSync"
   ]
  },
  {
   "cell_type": "code",
   "execution_count": null,
   "metadata": {},
   "outputs": [],
   "source": [
    "# OrganSync\n",
    "\n",
    "\n",
    "lr = .0095\n",
    "weight_decay = 0.00001\n",
    "num_hidden_layers = 3\n",
    "hidden_dim = 50\n",
    "output_dim = 19\n",
    "dropout_prob = 0.006\n",
    "epochs = 100\n",
    "batch_size = 128\n",
    "activation_type = 'leaky_relu'\n",
    "gamma = 0.87 # lr decay\n",
    "lambd = .1\n",
    "\n",
    "# CONSTRUCT MODEL(W)\n",
    "input_dim = dm.size(1)\n",
    "organsync_model_with_organ = OrganSync_Network(\n",
    "    input_dim=input_dim,\n",
    "    hidden_dim=hidden_dim,\n",
    "    num_hidden_layers=num_hidden_layers,\n",
    "    output_dim=output_dim,\n",
    "    lr=lr, gamma=gamma, lambd=lambd, weight_decay=weight_decay,\n",
    "    activation_type=activation_type,\n",
    "    dropout_prob=dropout_prob).double()\n",
    " \n",
    "trainer_with_organ = Trainer(callbacks=[], max_epochs=epochs)\n",
    "trainer_with_organ.fit(organsync_model_with_organ, datamodule=dm)"
   ]
  },
  {
   "cell_type": "code",
   "execution_count": null,
   "metadata": {},
   "outputs": [],
   "source": [
    "import cloudpickle\n",
    "\n",
    "organsync_model_with_organ.eval()\n",
    "del organsync_model_with_organ.trainer\n",
    "organsync_model_with_organ.trainer = None\n",
    "\n",
    "inference_os = Inference_OrganSync(model=organsync_model_with_organ, mean=dm.mean, std=dm.std)\n",
    "\n",
    "\n",
    "with open(\"models/organsync_inference.p\", \"wb\") as f:\n",
    "    cloudpickle.dump(inference_os, f)\n",
    "\n",
    "inference_os"
   ]
  },
  {
   "cell_type": "markdown",
   "metadata": {},
   "source": [
    "# OrganITE VAE"
   ]
  },
  {
   "cell_type": "code",
   "execution_count": null,
   "metadata": {},
   "outputs": [],
   "source": [
    "# Organ clustering\n",
    "test_df = dm._train_processed\n",
    "\n",
    "organs = test_df[list(dm.o_cols)]\n"
   ]
  },
  {
   "cell_type": "code",
   "execution_count": null,
   "metadata": {},
   "outputs": [],
   "source": [
    "probs = (np.bincount(organite_model.cluster.predict(organs)) / len(organs) * 100)\n",
    "\n",
    "probs"
   ]
  },
  {
   "cell_type": "code",
   "execution_count": null,
   "metadata": {},
   "outputs": [],
   "source": [
    "import cloudpickle\n",
    "\n",
    "\n",
    "with open(\"models/organite_clustering_probs.p\", \"wb\") as f:\n",
    "    cloudpickle.dump(probs, f)\n",
    "\n",
    "organs.to_csv(\"models/organs.csv\", compression='gzip', index = None)\n",
    "    "
   ]
  },
  {
   "cell_type": "code",
   "execution_count": null,
   "metadata": {},
   "outputs": [],
   "source": []
  },
  {
   "cell_type": "code",
   "execution_count": null,
   "metadata": {},
   "outputs": [],
   "source": []
  }
 ],
 "metadata": {
  "kernelspec": {
   "display_name": "organsync",
   "language": "python",
   "name": "organsync"
  },
  "language_info": {
   "codemirror_mode": {
    "name": "ipython",
    "version": 3
   },
   "file_extension": ".py",
   "mimetype": "text/x-python",
   "name": "python",
   "nbconvert_exporter": "python",
   "pygments_lexer": "ipython3",
   "version": "3.8.12"
  }
 },
 "nbformat": 4,
 "nbformat_minor": 4
}
