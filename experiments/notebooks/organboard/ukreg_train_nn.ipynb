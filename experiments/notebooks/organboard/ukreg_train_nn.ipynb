{
 "cells": [
  {
   "cell_type": "code",
   "execution_count": 2,
   "metadata": {},
   "outputs": [
    {
     "name": "stderr",
     "output_type": "stream",
     "text": [
      "Global seed set to 42\n"
     ]
    }
   ],
   "source": [
    "%reload_ext autoreload\n",
    "%autoreload 2\n",
    "\n",
    "import os\n",
    "import sys\n",
    "from pathlib import Path\n",
    "\n",
    "dir_path = Path(os.getcwd()).absolute()\n",
    "module_path = str(dir_path.parent.parent.parent)  # repo root\n",
    "if module_path not in sys.path:\n",
    "    sys.path.append(module_path)\n",
    "\n",
    "import numpy as np\n",
    "import pandas as pd\n",
    "import torch, lifelines\n",
    "\n",
    "import pytorch_lightning as pl\n",
    "\n",
    "pl.utilities.seed.seed_everything(seed=42)\n",
    "\n",
    "import matplotlib.pyplot as plt\n",
    "from pytorch_lightning import Trainer\n",
    "\n",
    "# OWN MODULES\n",
    "from organsync.experiments.data.data_module import UKRegDataModule\n",
    "from organsync.models.organsync_network import OrganSync_Network\n",
    "from organsync.models.organite_network import OrganITE_Network\n",
    "from organsync.models.inference import Inference_OrganITE, Inference_OrganSync\n",
    "\n",
    "import warnings\n",
    "\n",
    "warnings.filterwarnings(\"ignore\")"
   ]
  },
  {
   "cell_type": "code",
   "execution_count": 3,
   "metadata": {},
   "outputs": [
    {
     "data": {
      "text/html": [
       "<div>\n",
       "<style scoped>\n",
       "    .dataframe tbody tr th:only-of-type {\n",
       "        vertical-align: middle;\n",
       "    }\n",
       "\n",
       "    .dataframe tbody tr th {\n",
       "        vertical-align: top;\n",
       "    }\n",
       "\n",
       "    .dataframe thead th {\n",
       "        text-align: right;\n",
       "    }\n",
       "</style>\n",
       "<table border=\"1\" class=\"dataframe\">\n",
       "  <thead>\n",
       "    <tr style=\"text-align: right;\">\n",
       "      <th></th>\n",
       "      <th>PRIMARY_LIVER_DISEASE</th>\n",
       "      <th>reg_age</th>\n",
       "      <th>SERUM_CREATININE</th>\n",
       "      <th>SERUM_BILIRUBIN</th>\n",
       "      <th>INR</th>\n",
       "      <th>SERUM_SODIUM</th>\n",
       "      <th>DIABETIC</th>\n",
       "      <th>regyr</th>\n",
       "      <th>rwtime</th>\n",
       "      <th>CENS</th>\n",
       "      <th>...</th>\n",
       "      <th>DCOD_3</th>\n",
       "      <th>DGRP_1</th>\n",
       "      <th>DGRP_2</th>\n",
       "      <th>DGRP_3</th>\n",
       "      <th>DGRP_4</th>\n",
       "      <th>DBG_1.0</th>\n",
       "      <th>DBG_2.0</th>\n",
       "      <th>DBG_3.0</th>\n",
       "      <th>DBG_4.0</th>\n",
       "      <th>Y</th>\n",
       "    </tr>\n",
       "  </thead>\n",
       "  <tbody>\n",
       "    <tr>\n",
       "      <th>4672</th>\n",
       "      <td>-1.143617</td>\n",
       "      <td>-0.124023</td>\n",
       "      <td>-0.101377</td>\n",
       "      <td>0.248751</td>\n",
       "      <td>0.447170</td>\n",
       "      <td>-0.423979</td>\n",
       "      <td>-0.408407</td>\n",
       "      <td>-0.888355</td>\n",
       "      <td>-0.419680</td>\n",
       "      <td>0</td>\n",
       "      <td>...</td>\n",
       "      <td>0.0</td>\n",
       "      <td>1.0</td>\n",
       "      <td>0.0</td>\n",
       "      <td>0.0</td>\n",
       "      <td>0.0</td>\n",
       "      <td>1.0</td>\n",
       "      <td>0.0</td>\n",
       "      <td>0.0</td>\n",
       "      <td>0.0</td>\n",
       "      <td>0.603575</td>\n",
       "    </tr>\n",
       "    <tr>\n",
       "      <th>10285</th>\n",
       "      <td>0.000063</td>\n",
       "      <td>1.064747</td>\n",
       "      <td>-0.575057</td>\n",
       "      <td>0.471697</td>\n",
       "      <td>-0.165238</td>\n",
       "      <td>0.219349</td>\n",
       "      <td>-0.408407</td>\n",
       "      <td>0.353916</td>\n",
       "      <td>0.274812</td>\n",
       "      <td>0</td>\n",
       "      <td>...</td>\n",
       "      <td>0.0</td>\n",
       "      <td>1.0</td>\n",
       "      <td>0.0</td>\n",
       "      <td>0.0</td>\n",
       "      <td>0.0</td>\n",
       "      <td>1.0</td>\n",
       "      <td>0.0</td>\n",
       "      <td>0.0</td>\n",
       "      <td>0.0</td>\n",
       "      <td>-0.337767</td>\n",
       "    </tr>\n",
       "    <tr>\n",
       "      <th>16627</th>\n",
       "      <td>1.524971</td>\n",
       "      <td>1.234571</td>\n",
       "      <td>-0.490643</td>\n",
       "      <td>-0.415297</td>\n",
       "      <td>-0.845485</td>\n",
       "      <td>0.835131</td>\n",
       "      <td>-0.408407</td>\n",
       "      <td>1.320128</td>\n",
       "      <td>-0.695434</td>\n",
       "      <td>1</td>\n",
       "      <td>...</td>\n",
       "      <td>-1.0</td>\n",
       "      <td>-1.0</td>\n",
       "      <td>-1.0</td>\n",
       "      <td>-1.0</td>\n",
       "      <td>-1.0</td>\n",
       "      <td>-1.0</td>\n",
       "      <td>-1.0</td>\n",
       "      <td>-1.0</td>\n",
       "      <td>-1.0</td>\n",
       "      <td>-0.907274</td>\n",
       "    </tr>\n",
       "    <tr>\n",
       "      <th>10579</th>\n",
       "      <td>0.381290</td>\n",
       "      <td>1.489308</td>\n",
       "      <td>1.155433</td>\n",
       "      <td>1.966445</td>\n",
       "      <td>-0.165238</td>\n",
       "      <td>-0.806955</td>\n",
       "      <td>-0.408407</td>\n",
       "      <td>0.353916</td>\n",
       "      <td>-0.639262</td>\n",
       "      <td>1</td>\n",
       "      <td>...</td>\n",
       "      <td>-1.0</td>\n",
       "      <td>-1.0</td>\n",
       "      <td>-1.0</td>\n",
       "      <td>-1.0</td>\n",
       "      <td>-1.0</td>\n",
       "      <td>-1.0</td>\n",
       "      <td>-1.0</td>\n",
       "      <td>-1.0</td>\n",
       "      <td>-1.0</td>\n",
       "      <td>-0.901996</td>\n",
       "    </tr>\n",
       "    <tr>\n",
       "      <th>13750</th>\n",
       "      <td>0.381290</td>\n",
       "      <td>0.894923</td>\n",
       "      <td>-0.490643</td>\n",
       "      <td>-0.136058</td>\n",
       "      <td>-1.072233</td>\n",
       "      <td>0.219349</td>\n",
       "      <td>-0.408407</td>\n",
       "      <td>0.906037</td>\n",
       "      <td>-0.475852</td>\n",
       "      <td>0</td>\n",
       "      <td>...</td>\n",
       "      <td>0.0</td>\n",
       "      <td>1.0</td>\n",
       "      <td>0.0</td>\n",
       "      <td>0.0</td>\n",
       "      <td>0.0</td>\n",
       "      <td>1.0</td>\n",
       "      <td>0.0</td>\n",
       "      <td>0.0</td>\n",
       "      <td>0.0</td>\n",
       "      <td>-0.274915</td>\n",
       "    </tr>\n",
       "    <tr>\n",
       "      <th>...</th>\n",
       "      <td>...</td>\n",
       "      <td>...</td>\n",
       "      <td>...</td>\n",
       "      <td>...</td>\n",
       "      <td>...</td>\n",
       "      <td>...</td>\n",
       "      <td>...</td>\n",
       "      <td>...</td>\n",
       "      <td>...</td>\n",
       "      <td>...</td>\n",
       "      <td>...</td>\n",
       "      <td>...</td>\n",
       "      <td>...</td>\n",
       "      <td>...</td>\n",
       "      <td>...</td>\n",
       "      <td>...</td>\n",
       "      <td>...</td>\n",
       "      <td>...</td>\n",
       "      <td>...</td>\n",
       "      <td>...</td>\n",
       "      <td>...</td>\n",
       "    </tr>\n",
       "    <tr>\n",
       "      <th>11284</th>\n",
       "      <td>-0.762390</td>\n",
       "      <td>0.215626</td>\n",
       "      <td>0.627845</td>\n",
       "      <td>-0.579555</td>\n",
       "      <td>-0.391987</td>\n",
       "      <td>0.424609</td>\n",
       "      <td>2.448540</td>\n",
       "      <td>0.491947</td>\n",
       "      <td>0.039910</td>\n",
       "      <td>1</td>\n",
       "      <td>...</td>\n",
       "      <td>-1.0</td>\n",
       "      <td>-1.0</td>\n",
       "      <td>-1.0</td>\n",
       "      <td>-1.0</td>\n",
       "      <td>-1.0</td>\n",
       "      <td>-1.0</td>\n",
       "      <td>-1.0</td>\n",
       "      <td>-1.0</td>\n",
       "      <td>-1.0</td>\n",
       "      <td>-0.838185</td>\n",
       "    </tr>\n",
       "    <tr>\n",
       "      <th>11964</th>\n",
       "      <td>1.143744</td>\n",
       "      <td>1.234571</td>\n",
       "      <td>-1.060439</td>\n",
       "      <td>-0.587768</td>\n",
       "      <td>-0.165238</td>\n",
       "      <td>0.424609</td>\n",
       "      <td>-0.408407</td>\n",
       "      <td>0.629977</td>\n",
       "      <td>0.233959</td>\n",
       "      <td>1</td>\n",
       "      <td>...</td>\n",
       "      <td>-1.0</td>\n",
       "      <td>-1.0</td>\n",
       "      <td>-1.0</td>\n",
       "      <td>-1.0</td>\n",
       "      <td>-1.0</td>\n",
       "      <td>-1.0</td>\n",
       "      <td>-1.0</td>\n",
       "      <td>-1.0</td>\n",
       "      <td>-1.0</td>\n",
       "      <td>-0.819953</td>\n",
       "    </tr>\n",
       "    <tr>\n",
       "      <th>5390</th>\n",
       "      <td>0.381290</td>\n",
       "      <td>1.489308</td>\n",
       "      <td>-0.385125</td>\n",
       "      <td>0.471697</td>\n",
       "      <td>-0.618736</td>\n",
       "      <td>-0.806955</td>\n",
       "      <td>-0.408407</td>\n",
       "      <td>-0.750325</td>\n",
       "      <td>1.561664</td>\n",
       "      <td>0</td>\n",
       "      <td>...</td>\n",
       "      <td>0.0</td>\n",
       "      <td>1.0</td>\n",
       "      <td>0.0</td>\n",
       "      <td>0.0</td>\n",
       "      <td>0.0</td>\n",
       "      <td>1.0</td>\n",
       "      <td>0.0</td>\n",
       "      <td>0.0</td>\n",
       "      <td>0.0</td>\n",
       "      <td>0.391989</td>\n",
       "    </tr>\n",
       "    <tr>\n",
       "      <th>860</th>\n",
       "      <td>1.524971</td>\n",
       "      <td>0.385450</td>\n",
       "      <td>1.106616</td>\n",
       "      <td>0.501615</td>\n",
       "      <td>-0.426940</td>\n",
       "      <td>0.023156</td>\n",
       "      <td>-0.408407</td>\n",
       "      <td>-1.716536</td>\n",
       "      <td>-0.634156</td>\n",
       "      <td>0</td>\n",
       "      <td>...</td>\n",
       "      <td>0.0</td>\n",
       "      <td>1.0</td>\n",
       "      <td>0.0</td>\n",
       "      <td>0.0</td>\n",
       "      <td>0.0</td>\n",
       "      <td>1.0</td>\n",
       "      <td>0.0</td>\n",
       "      <td>0.0</td>\n",
       "      <td>0.0</td>\n",
       "      <td>-0.714879</td>\n",
       "    </tr>\n",
       "    <tr>\n",
       "      <th>15795</th>\n",
       "      <td>0.762517</td>\n",
       "      <td>-0.039111</td>\n",
       "      <td>-1.018231</td>\n",
       "      <td>-0.694536</td>\n",
       "      <td>-0.165238</td>\n",
       "      <td>0.014088</td>\n",
       "      <td>-0.408407</td>\n",
       "      <td>1.182097</td>\n",
       "      <td>-0.307336</td>\n",
       "      <td>0</td>\n",
       "      <td>...</td>\n",
       "      <td>0.0</td>\n",
       "      <td>1.0</td>\n",
       "      <td>0.0</td>\n",
       "      <td>0.0</td>\n",
       "      <td>0.0</td>\n",
       "      <td>1.0</td>\n",
       "      <td>0.0</td>\n",
       "      <td>0.0</td>\n",
       "      <td>0.0</td>\n",
       "      <td>-0.573342</td>\n",
       "    </tr>\n",
       "  </tbody>\n",
       "</table>\n",
       "<p>14438 rows × 57 columns</p>\n",
       "</div>"
      ],
      "text/plain": [
       "       PRIMARY_LIVER_DISEASE   reg_age  SERUM_CREATININE  SERUM_BILIRUBIN  \\\n",
       "4672               -1.143617 -0.124023         -0.101377         0.248751   \n",
       "10285               0.000063  1.064747         -0.575057         0.471697   \n",
       "16627               1.524971  1.234571         -0.490643        -0.415297   \n",
       "10579               0.381290  1.489308          1.155433         1.966445   \n",
       "13750               0.381290  0.894923         -0.490643        -0.136058   \n",
       "...                      ...       ...               ...              ...   \n",
       "11284              -0.762390  0.215626          0.627845        -0.579555   \n",
       "11964               1.143744  1.234571         -1.060439        -0.587768   \n",
       "5390                0.381290  1.489308         -0.385125         0.471697   \n",
       "860                 1.524971  0.385450          1.106616         0.501615   \n",
       "15795               0.762517 -0.039111         -1.018231        -0.694536   \n",
       "\n",
       "            INR  SERUM_SODIUM  DIABETIC     regyr    rwtime  CENS  ...  \\\n",
       "4672   0.447170     -0.423979 -0.408407 -0.888355 -0.419680     0  ...   \n",
       "10285 -0.165238      0.219349 -0.408407  0.353916  0.274812     0  ...   \n",
       "16627 -0.845485      0.835131 -0.408407  1.320128 -0.695434     1  ...   \n",
       "10579 -0.165238     -0.806955 -0.408407  0.353916 -0.639262     1  ...   \n",
       "13750 -1.072233      0.219349 -0.408407  0.906037 -0.475852     0  ...   \n",
       "...         ...           ...       ...       ...       ...   ...  ...   \n",
       "11284 -0.391987      0.424609  2.448540  0.491947  0.039910     1  ...   \n",
       "11964 -0.165238      0.424609 -0.408407  0.629977  0.233959     1  ...   \n",
       "5390  -0.618736     -0.806955 -0.408407 -0.750325  1.561664     0  ...   \n",
       "860   -0.426940      0.023156 -0.408407 -1.716536 -0.634156     0  ...   \n",
       "15795 -0.165238      0.014088 -0.408407  1.182097 -0.307336     0  ...   \n",
       "\n",
       "       DCOD_3  DGRP_1  DGRP_2  DGRP_3  DGRP_4  DBG_1.0  DBG_2.0  DBG_3.0  \\\n",
       "4672      0.0     1.0     0.0     0.0     0.0      1.0      0.0      0.0   \n",
       "10285     0.0     1.0     0.0     0.0     0.0      1.0      0.0      0.0   \n",
       "16627    -1.0    -1.0    -1.0    -1.0    -1.0     -1.0     -1.0     -1.0   \n",
       "10579    -1.0    -1.0    -1.0    -1.0    -1.0     -1.0     -1.0     -1.0   \n",
       "13750     0.0     1.0     0.0     0.0     0.0      1.0      0.0      0.0   \n",
       "...       ...     ...     ...     ...     ...      ...      ...      ...   \n",
       "11284    -1.0    -1.0    -1.0    -1.0    -1.0     -1.0     -1.0     -1.0   \n",
       "11964    -1.0    -1.0    -1.0    -1.0    -1.0     -1.0     -1.0     -1.0   \n",
       "5390      0.0     1.0     0.0     0.0     0.0      1.0      0.0      0.0   \n",
       "860       0.0     1.0     0.0     0.0     0.0      1.0      0.0      0.0   \n",
       "15795     0.0     1.0     0.0     0.0     0.0      1.0      0.0      0.0   \n",
       "\n",
       "       DBG_4.0         Y  \n",
       "4672       0.0  0.603575  \n",
       "10285      0.0 -0.337767  \n",
       "16627     -1.0 -0.907274  \n",
       "10579     -1.0 -0.901996  \n",
       "13750      0.0 -0.274915  \n",
       "...        ...       ...  \n",
       "11284     -1.0 -0.838185  \n",
       "11964     -1.0 -0.819953  \n",
       "5390       0.0  0.391989  \n",
       "860        0.0 -0.714879  \n",
       "15795      0.0 -0.573342  \n",
       "\n",
       "[14438 rows x 57 columns]"
      ]
     },
     "execution_count": 3,
     "metadata": {},
     "output_type": "execute_result"
    }
   ],
   "source": [
    "# SETUP DATA\n",
    "\n",
    "batch_size = 256\n",
    "\n",
    "root_data_dir = Path(\"../datasets\").absolute()\n",
    "\n",
    "data_dir = (\n",
    "    root_data_dir / \"processed_UKReg\"\n",
    ")  # replace with your path to the processed UKReg dataset\n",
    "\n",
    "dm = UKRegDataModule(data_dir, batch_size=batch_size, control=False)\n",
    "dm.prepare_data()\n",
    "dm.setup(stage=\"fit\")\n",
    "\n",
    "dm._train_processed"
   ]
  },
  {
   "cell_type": "markdown",
   "metadata": {},
   "source": [
    "# OrganITE"
   ]
  },
  {
   "cell_type": "code",
   "execution_count": 6,
   "metadata": {},
   "outputs": [
    {
     "name": "stderr",
     "output_type": "stream",
     "text": [
      "GPU available: False, used: False\n",
      "TPU available: False, using: 0 TPU cores\n",
      "IPU available: False, using: 0 IPUs\n",
      "\n",
      "  | Name           | Type             | Params\n",
      "----------------------------------------------------\n",
      "0 | representation | Sequential       | 2.0 K \n",
      "1 | propensity     | Sequential       | 147   \n",
      "2 | output         | Sequential       | 49    \n",
      "3 | loss_mse       | MeanSquaredError | 0     \n",
      "4 | loss_cel       | CrossEntropyLoss | 0     \n",
      "----------------------------------------------------\n",
      "2.2 K     Trainable params\n",
      "0         Non-trainable params\n",
      "2.2 K     Total params\n",
      "0.009     Total estimated model params size (MB)\n"
     ]
    },
    {
     "data": {
      "application/vnd.jupyter.widget-view+json": {
       "model_id": "",
       "version_major": 2,
       "version_minor": 0
      },
      "text/plain": [
       "Validation sanity check: 0it [00:00, ?it/s]"
      ]
     },
     "metadata": {},
     "output_type": "display_data"
    },
    {
     "name": "stderr",
     "output_type": "stream",
     "text": [
      "Global seed set to 42\n"
     ]
    },
    {
     "data": {
      "application/vnd.jupyter.widget-view+json": {
       "model_id": "f85669959b424de5a117d451428af66d",
       "version_major": 2,
       "version_minor": 0
      },
      "text/plain": [
       "Training: -1it [00:00, ?it/s]"
      ]
     },
     "metadata": {},
     "output_type": "display_data"
    },
    {
     "data": {
      "application/vnd.jupyter.widget-view+json": {
       "model_id": "",
       "version_major": 2,
       "version_minor": 0
      },
      "text/plain": [
       "Validating: 0it [00:00, ?it/s]"
      ]
     },
     "metadata": {},
     "output_type": "display_data"
    },
    {
     "data": {
      "application/vnd.jupyter.widget-view+json": {
       "model_id": "",
       "version_major": 2,
       "version_minor": 0
      },
      "text/plain": [
       "Validating: 0it [00:00, ?it/s]"
      ]
     },
     "metadata": {},
     "output_type": "display_data"
    },
    {
     "data": {
      "application/vnd.jupyter.widget-view+json": {
       "model_id": "",
       "version_major": 2,
       "version_minor": 0
      },
      "text/plain": [
       "Validating: 0it [00:00, ?it/s]"
      ]
     },
     "metadata": {},
     "output_type": "display_data"
    },
    {
     "data": {
      "application/vnd.jupyter.widget-view+json": {
       "model_id": "",
       "version_major": 2,
       "version_minor": 0
      },
      "text/plain": [
       "Validating: 0it [00:00, ?it/s]"
      ]
     },
     "metadata": {},
     "output_type": "display_data"
    },
    {
     "data": {
      "application/vnd.jupyter.widget-view+json": {
       "model_id": "",
       "version_major": 2,
       "version_minor": 0
      },
      "text/plain": [
       "Validating: 0it [00:00, ?it/s]"
      ]
     },
     "metadata": {},
     "output_type": "display_data"
    },
    {
     "data": {
      "application/vnd.jupyter.widget-view+json": {
       "model_id": "",
       "version_major": 2,
       "version_minor": 0
      },
      "text/plain": [
       "Validating: 0it [00:00, ?it/s]"
      ]
     },
     "metadata": {},
     "output_type": "display_data"
    },
    {
     "data": {
      "application/vnd.jupyter.widget-view+json": {
       "model_id": "",
       "version_major": 2,
       "version_minor": 0
      },
      "text/plain": [
       "Validating: 0it [00:00, ?it/s]"
      ]
     },
     "metadata": {},
     "output_type": "display_data"
    },
    {
     "data": {
      "application/vnd.jupyter.widget-view+json": {
       "model_id": "",
       "version_major": 2,
       "version_minor": 0
      },
      "text/plain": [
       "Validating: 0it [00:00, ?it/s]"
      ]
     },
     "metadata": {},
     "output_type": "display_data"
    },
    {
     "data": {
      "application/vnd.jupyter.widget-view+json": {
       "model_id": "",
       "version_major": 2,
       "version_minor": 0
      },
      "text/plain": [
       "Validating: 0it [00:00, ?it/s]"
      ]
     },
     "metadata": {},
     "output_type": "display_data"
    },
    {
     "data": {
      "application/vnd.jupyter.widget-view+json": {
       "model_id": "",
       "version_major": 2,
       "version_minor": 0
      },
      "text/plain": [
       "Validating: 0it [00:00, ?it/s]"
      ]
     },
     "metadata": {},
     "output_type": "display_data"
    },
    {
     "data": {
      "application/vnd.jupyter.widget-view+json": {
       "model_id": "1a5217e056444751adb31b7f4ba261e1",
       "version_major": 2,
       "version_minor": 0
      },
      "text/plain": [
       "Testing: 0it [00:00, ?it/s]"
      ]
     },
     "metadata": {},
     "output_type": "display_data"
    },
    {
     "name": "stdout",
     "output_type": "stream",
     "text": [
      "--------------------------------------------------------------------------------\n",
      "DATALOADER:0 TEST RESULTS\n",
      "{'test_loss - RMSE': 0.49413105845451355,\n",
      " 'test_loss - mean difference in days': 645.9779052734375}\n",
      "--------------------------------------------------------------------------------\n"
     ]
    },
    {
     "data": {
      "text/plain": [
       "[{'test_loss - mean difference in days': 645.9779052734375,\n",
       "  'test_loss - RMSE': 0.49413105845451355}]"
      ]
     },
     "execution_count": 6,
     "metadata": {},
     "output_type": "execute_result"
    }
   ],
   "source": [
    "# OrganITE\n",
    "\n",
    "input_dim = dm.size(1)\n",
    "hidden_dim = 16\n",
    "num_hidden_layers = 4\n",
    "output_dim = 6\n",
    "lr = 0.007\n",
    "gamma = 0.79\n",
    "lambd = 0.15\n",
    "kappa = 0.15\n",
    "weight_decay = 0.0006\n",
    "n_clusters = 15\n",
    "activation_type = \"leaky_relu\"\n",
    "dropout_prob = 0.11\n",
    "epochs = 10\n",
    "\n",
    "organite_model = OrganITE_Network(\n",
    "    input_dim=input_dim,\n",
    "    hidden_dim=hidden_dim,\n",
    "    num_hidden_layers=num_hidden_layers,\n",
    "    output_dim=output_dim,\n",
    "    lr=lr,\n",
    "    gamma=gamma,\n",
    "    lambd=lambd,\n",
    "    kappa=kappa,\n",
    "    weight_decay=weight_decay,\n",
    "    n_clusters=n_clusters,\n",
    "    activation_type=activation_type,\n",
    "    dropout_prob=dropout_prob,\n",
    ").double()\n",
    "\n",
    "dm.setup(stage=\"fit\")\n",
    "organite_trainer = Trainer(callbacks=[], max_epochs=epochs)\n",
    "organite_trainer.fit(organite_model, datamodule=dm)\n",
    "\n",
    "dm.setup(stage=\"test\")\n",
    "organite_trainer.test(datamodule=dm)"
   ]
  },
  {
   "cell_type": "code",
   "execution_count": 7,
   "metadata": {},
   "outputs": [],
   "source": [
    "import cloudpickle\n",
    "\n",
    "organite_model.eval()\n",
    "inference_oite = Inference_OrganITE(model=organite_model, mean=dm.mean, std=dm.std)\n",
    "\n",
    "del organite_model.trainer\n",
    "organite_model.trainer = None\n",
    "\n",
    "with open(\"models/organite_inference.p\", \"wb\") as f:\n",
    "    cloudpickle.dump(inference_oite, f)"
   ]
  },
  {
   "cell_type": "markdown",
   "metadata": {},
   "source": [
    "# OrganSync"
   ]
  },
  {
   "cell_type": "code",
   "execution_count": null,
   "metadata": {},
   "outputs": [
    {
     "name": "stderr",
     "output_type": "stream",
     "text": [
      "GPU available: False, used: False\n",
      "TPU available: False, using: 0 TPU cores\n",
      "IPU available: False, using: 0 IPUs\n",
      "\n",
      "  | Name           | Type             | Params\n",
      "----------------------------------------------------\n",
      "0 | representation | Sequential       | 16.4 K\n",
      "1 | beta           | Linear           | 20    \n",
      "2 | loss           | MeanSquaredError | 0     \n",
      "----------------------------------------------------\n",
      "16.4 K    Trainable params\n",
      "0         Non-trainable params\n",
      "16.4 K    Total params\n",
      "0.066     Total estimated model params size (MB)\n"
     ]
    },
    {
     "data": {
      "application/vnd.jupyter.widget-view+json": {
       "model_id": "",
       "version_major": 2,
       "version_minor": 0
      },
      "text/plain": [
       "Validation sanity check: 0it [00:00, ?it/s]"
      ]
     },
     "metadata": {},
     "output_type": "display_data"
    },
    {
     "name": "stderr",
     "output_type": "stream",
     "text": [
      "Global seed set to 42\n"
     ]
    },
    {
     "data": {
      "application/vnd.jupyter.widget-view+json": {
       "model_id": "8b2497ef025548c88a6e74be680fb76d",
       "version_major": 2,
       "version_minor": 0
      },
      "text/plain": [
       "Training: -1it [00:00, ?it/s]"
      ]
     },
     "metadata": {},
     "output_type": "display_data"
    },
    {
     "data": {
      "application/vnd.jupyter.widget-view+json": {
       "model_id": "",
       "version_major": 2,
       "version_minor": 0
      },
      "text/plain": [
       "Validating: 0it [00:00, ?it/s]"
      ]
     },
     "metadata": {},
     "output_type": "display_data"
    },
    {
     "data": {
      "application/vnd.jupyter.widget-view+json": {
       "model_id": "",
       "version_major": 2,
       "version_minor": 0
      },
      "text/plain": [
       "Validating: 0it [00:00, ?it/s]"
      ]
     },
     "metadata": {},
     "output_type": "display_data"
    },
    {
     "data": {
      "application/vnd.jupyter.widget-view+json": {
       "model_id": "",
       "version_major": 2,
       "version_minor": 0
      },
      "text/plain": [
       "Validating: 0it [00:00, ?it/s]"
      ]
     },
     "metadata": {},
     "output_type": "display_data"
    },
    {
     "data": {
      "application/vnd.jupyter.widget-view+json": {
       "model_id": "",
       "version_major": 2,
       "version_minor": 0
      },
      "text/plain": [
       "Validating: 0it [00:00, ?it/s]"
      ]
     },
     "metadata": {},
     "output_type": "display_data"
    },
    {
     "data": {
      "application/vnd.jupyter.widget-view+json": {
       "model_id": "",
       "version_major": 2,
       "version_minor": 0
      },
      "text/plain": [
       "Validating: 0it [00:00, ?it/s]"
      ]
     },
     "metadata": {},
     "output_type": "display_data"
    },
    {
     "data": {
      "application/vnd.jupyter.widget-view+json": {
       "model_id": "",
       "version_major": 2,
       "version_minor": 0
      },
      "text/plain": [
       "Validating: 0it [00:00, ?it/s]"
      ]
     },
     "metadata": {},
     "output_type": "display_data"
    },
    {
     "data": {
      "application/vnd.jupyter.widget-view+json": {
       "model_id": "",
       "version_major": 2,
       "version_minor": 0
      },
      "text/plain": [
       "Validating: 0it [00:00, ?it/s]"
      ]
     },
     "metadata": {},
     "output_type": "display_data"
    },
    {
     "data": {
      "application/vnd.jupyter.widget-view+json": {
       "model_id": "",
       "version_major": 2,
       "version_minor": 0
      },
      "text/plain": [
       "Validating: 0it [00:00, ?it/s]"
      ]
     },
     "metadata": {},
     "output_type": "display_data"
    },
    {
     "data": {
      "application/vnd.jupyter.widget-view+json": {
       "model_id": "",
       "version_major": 2,
       "version_minor": 0
      },
      "text/plain": [
       "Validating: 0it [00:00, ?it/s]"
      ]
     },
     "metadata": {},
     "output_type": "display_data"
    },
    {
     "data": {
      "application/vnd.jupyter.widget-view+json": {
       "model_id": "",
       "version_major": 2,
       "version_minor": 0
      },
      "text/plain": [
       "Validating: 0it [00:00, ?it/s]"
      ]
     },
     "metadata": {},
     "output_type": "display_data"
    },
    {
     "data": {
      "application/vnd.jupyter.widget-view+json": {
       "model_id": "",
       "version_major": 2,
       "version_minor": 0
      },
      "text/plain": [
       "Validating: 0it [00:00, ?it/s]"
      ]
     },
     "metadata": {},
     "output_type": "display_data"
    },
    {
     "data": {
      "application/vnd.jupyter.widget-view+json": {
       "model_id": "",
       "version_major": 2,
       "version_minor": 0
      },
      "text/plain": [
       "Validating: 0it [00:00, ?it/s]"
      ]
     },
     "metadata": {},
     "output_type": "display_data"
    },
    {
     "data": {
      "application/vnd.jupyter.widget-view+json": {
       "model_id": "",
       "version_major": 2,
       "version_minor": 0
      },
      "text/plain": [
       "Validating: 0it [00:00, ?it/s]"
      ]
     },
     "metadata": {},
     "output_type": "display_data"
    },
    {
     "data": {
      "application/vnd.jupyter.widget-view+json": {
       "model_id": "",
       "version_major": 2,
       "version_minor": 0
      },
      "text/plain": [
       "Validating: 0it [00:00, ?it/s]"
      ]
     },
     "metadata": {},
     "output_type": "display_data"
    },
    {
     "data": {
      "application/vnd.jupyter.widget-view+json": {
       "model_id": "",
       "version_major": 2,
       "version_minor": 0
      },
      "text/plain": [
       "Validating: 0it [00:00, ?it/s]"
      ]
     },
     "metadata": {},
     "output_type": "display_data"
    },
    {
     "data": {
      "application/vnd.jupyter.widget-view+json": {
       "model_id": "",
       "version_major": 2,
       "version_minor": 0
      },
      "text/plain": [
       "Validating: 0it [00:00, ?it/s]"
      ]
     },
     "metadata": {},
     "output_type": "display_data"
    },
    {
     "data": {
      "application/vnd.jupyter.widget-view+json": {
       "model_id": "",
       "version_major": 2,
       "version_minor": 0
      },
      "text/plain": [
       "Validating: 0it [00:00, ?it/s]"
      ]
     },
     "metadata": {},
     "output_type": "display_data"
    },
    {
     "data": {
      "application/vnd.jupyter.widget-view+json": {
       "model_id": "",
       "version_major": 2,
       "version_minor": 0
      },
      "text/plain": [
       "Validating: 0it [00:00, ?it/s]"
      ]
     },
     "metadata": {},
     "output_type": "display_data"
    },
    {
     "data": {
      "application/vnd.jupyter.widget-view+json": {
       "model_id": "",
       "version_major": 2,
       "version_minor": 0
      },
      "text/plain": [
       "Validating: 0it [00:00, ?it/s]"
      ]
     },
     "metadata": {},
     "output_type": "display_data"
    },
    {
     "data": {
      "application/vnd.jupyter.widget-view+json": {
       "model_id": "",
       "version_major": 2,
       "version_minor": 0
      },
      "text/plain": [
       "Validating: 0it [00:00, ?it/s]"
      ]
     },
     "metadata": {},
     "output_type": "display_data"
    },
    {
     "data": {
      "application/vnd.jupyter.widget-view+json": {
       "model_id": "",
       "version_major": 2,
       "version_minor": 0
      },
      "text/plain": [
       "Validating: 0it [00:00, ?it/s]"
      ]
     },
     "metadata": {},
     "output_type": "display_data"
    },
    {
     "data": {
      "application/vnd.jupyter.widget-view+json": {
       "model_id": "",
       "version_major": 2,
       "version_minor": 0
      },
      "text/plain": [
       "Validating: 0it [00:00, ?it/s]"
      ]
     },
     "metadata": {},
     "output_type": "display_data"
    },
    {
     "data": {
      "application/vnd.jupyter.widget-view+json": {
       "model_id": "",
       "version_major": 2,
       "version_minor": 0
      },
      "text/plain": [
       "Validating: 0it [00:00, ?it/s]"
      ]
     },
     "metadata": {},
     "output_type": "display_data"
    },
    {
     "data": {
      "application/vnd.jupyter.widget-view+json": {
       "model_id": "",
       "version_major": 2,
       "version_minor": 0
      },
      "text/plain": [
       "Validating: 0it [00:00, ?it/s]"
      ]
     },
     "metadata": {},
     "output_type": "display_data"
    },
    {
     "data": {
      "application/vnd.jupyter.widget-view+json": {
       "model_id": "",
       "version_major": 2,
       "version_minor": 0
      },
      "text/plain": [
       "Validating: 0it [00:00, ?it/s]"
      ]
     },
     "metadata": {},
     "output_type": "display_data"
    },
    {
     "data": {
      "application/vnd.jupyter.widget-view+json": {
       "model_id": "",
       "version_major": 2,
       "version_minor": 0
      },
      "text/plain": [
       "Validating: 0it [00:00, ?it/s]"
      ]
     },
     "metadata": {},
     "output_type": "display_data"
    },
    {
     "data": {
      "application/vnd.jupyter.widget-view+json": {
       "model_id": "",
       "version_major": 2,
       "version_minor": 0
      },
      "text/plain": [
       "Validating: 0it [00:00, ?it/s]"
      ]
     },
     "metadata": {},
     "output_type": "display_data"
    },
    {
     "data": {
      "application/vnd.jupyter.widget-view+json": {
       "model_id": "",
       "version_major": 2,
       "version_minor": 0
      },
      "text/plain": [
       "Validating: 0it [00:00, ?it/s]"
      ]
     },
     "metadata": {},
     "output_type": "display_data"
    },
    {
     "data": {
      "application/vnd.jupyter.widget-view+json": {
       "model_id": "",
       "version_major": 2,
       "version_minor": 0
      },
      "text/plain": [
       "Validating: 0it [00:00, ?it/s]"
      ]
     },
     "metadata": {},
     "output_type": "display_data"
    },
    {
     "data": {
      "application/vnd.jupyter.widget-view+json": {
       "model_id": "",
       "version_major": 2,
       "version_minor": 0
      },
      "text/plain": [
       "Validating: 0it [00:00, ?it/s]"
      ]
     },
     "metadata": {},
     "output_type": "display_data"
    },
    {
     "data": {
      "application/vnd.jupyter.widget-view+json": {
       "model_id": "",
       "version_major": 2,
       "version_minor": 0
      },
      "text/plain": [
       "Validating: 0it [00:00, ?it/s]"
      ]
     },
     "metadata": {},
     "output_type": "display_data"
    },
    {
     "data": {
      "application/vnd.jupyter.widget-view+json": {
       "model_id": "",
       "version_major": 2,
       "version_minor": 0
      },
      "text/plain": [
       "Validating: 0it [00:00, ?it/s]"
      ]
     },
     "metadata": {},
     "output_type": "display_data"
    },
    {
     "data": {
      "application/vnd.jupyter.widget-view+json": {
       "model_id": "",
       "version_major": 2,
       "version_minor": 0
      },
      "text/plain": [
       "Validating: 0it [00:00, ?it/s]"
      ]
     },
     "metadata": {},
     "output_type": "display_data"
    },
    {
     "data": {
      "application/vnd.jupyter.widget-view+json": {
       "model_id": "",
       "version_major": 2,
       "version_minor": 0
      },
      "text/plain": [
       "Validating: 0it [00:00, ?it/s]"
      ]
     },
     "metadata": {},
     "output_type": "display_data"
    },
    {
     "data": {
      "application/vnd.jupyter.widget-view+json": {
       "model_id": "",
       "version_major": 2,
       "version_minor": 0
      },
      "text/plain": [
       "Validating: 0it [00:00, ?it/s]"
      ]
     },
     "metadata": {},
     "output_type": "display_data"
    },
    {
     "data": {
      "application/vnd.jupyter.widget-view+json": {
       "model_id": "",
       "version_major": 2,
       "version_minor": 0
      },
      "text/plain": [
       "Validating: 0it [00:00, ?it/s]"
      ]
     },
     "metadata": {},
     "output_type": "display_data"
    },
    {
     "data": {
      "application/vnd.jupyter.widget-view+json": {
       "model_id": "",
       "version_major": 2,
       "version_minor": 0
      },
      "text/plain": [
       "Validating: 0it [00:00, ?it/s]"
      ]
     },
     "metadata": {},
     "output_type": "display_data"
    },
    {
     "data": {
      "application/vnd.jupyter.widget-view+json": {
       "model_id": "",
       "version_major": 2,
       "version_minor": 0
      },
      "text/plain": [
       "Validating: 0it [00:00, ?it/s]"
      ]
     },
     "metadata": {},
     "output_type": "display_data"
    },
    {
     "data": {
      "application/vnd.jupyter.widget-view+json": {
       "model_id": "",
       "version_major": 2,
       "version_minor": 0
      },
      "text/plain": [
       "Validating: 0it [00:00, ?it/s]"
      ]
     },
     "metadata": {},
     "output_type": "display_data"
    },
    {
     "data": {
      "application/vnd.jupyter.widget-view+json": {
       "model_id": "",
       "version_major": 2,
       "version_minor": 0
      },
      "text/plain": [
       "Validating: 0it [00:00, ?it/s]"
      ]
     },
     "metadata": {},
     "output_type": "display_data"
    },
    {
     "data": {
      "application/vnd.jupyter.widget-view+json": {
       "model_id": "",
       "version_major": 2,
       "version_minor": 0
      },
      "text/plain": [
       "Validating: 0it [00:00, ?it/s]"
      ]
     },
     "metadata": {},
     "output_type": "display_data"
    },
    {
     "data": {
      "application/vnd.jupyter.widget-view+json": {
       "model_id": "",
       "version_major": 2,
       "version_minor": 0
      },
      "text/plain": [
       "Validating: 0it [00:00, ?it/s]"
      ]
     },
     "metadata": {},
     "output_type": "display_data"
    },
    {
     "data": {
      "application/vnd.jupyter.widget-view+json": {
       "model_id": "",
       "version_major": 2,
       "version_minor": 0
      },
      "text/plain": [
       "Validating: 0it [00:00, ?it/s]"
      ]
     },
     "metadata": {},
     "output_type": "display_data"
    },
    {
     "data": {
      "application/vnd.jupyter.widget-view+json": {
       "model_id": "",
       "version_major": 2,
       "version_minor": 0
      },
      "text/plain": [
       "Validating: 0it [00:00, ?it/s]"
      ]
     },
     "metadata": {},
     "output_type": "display_data"
    }
   ],
   "source": [
    "# OrganSync\n",
    "\n",
    "\n",
    "lr = 0.0095\n",
    "weight_decay = 0.00001\n",
    "num_hidden_layers = 3\n",
    "hidden_dim = 50\n",
    "output_dim = 19\n",
    "dropout_prob = 0.006\n",
    "epochs = 100\n",
    "batch_size = 128\n",
    "activation_type = \"leaky_relu\"\n",
    "gamma = 0.87  # lr decay\n",
    "lambd = 0.1\n",
    "\n",
    "# CONSTRUCT MODEL(W)\n",
    "input_dim = dm.size(1)\n",
    "organsync_model_with_organ = OrganSync_Network(\n",
    "    input_dim=input_dim,\n",
    "    hidden_dim=hidden_dim,\n",
    "    num_hidden_layers=num_hidden_layers,\n",
    "    output_dim=output_dim,\n",
    "    lr=lr,\n",
    "    gamma=gamma,\n",
    "    lambd=lambd,\n",
    "    weight_decay=weight_decay,\n",
    "    activation_type=activation_type,\n",
    "    dropout_prob=dropout_prob,\n",
    ").double()\n",
    "\n",
    "trainer_with_organ = Trainer(callbacks=[], max_epochs=epochs)\n",
    "trainer_with_organ.fit(organsync_model_with_organ, datamodule=dm)"
   ]
  },
  {
   "cell_type": "code",
   "execution_count": null,
   "metadata": {},
   "outputs": [],
   "source": [
    "import cloudpickle\n",
    "\n",
    "organsync_model_with_organ.eval()\n",
    "del organsync_model_with_organ.trainer\n",
    "organsync_model_with_organ.trainer = None\n",
    "\n",
    "inference_os = Inference_OrganSync(\n",
    "    model=organsync_model_with_organ, mean=dm.mean, std=dm.std\n",
    ")\n",
    "\n",
    "\n",
    "with open(\"models/organsync_inference.p\", \"wb\") as f:\n",
    "    cloudpickle.dump(inference_os, f)\n",
    "\n",
    "inference_os"
   ]
  },
  {
   "cell_type": "markdown",
   "metadata": {},
   "source": [
    "# OrganITE VAE"
   ]
  },
  {
   "cell_type": "code",
   "execution_count": null,
   "metadata": {},
   "outputs": [],
   "source": [
    "# Organ clustering\n",
    "test_df = dm._train_processed\n",
    "\n",
    "organs = test_df[list(dm.o_cols)]"
   ]
  },
  {
   "cell_type": "code",
   "execution_count": null,
   "metadata": {},
   "outputs": [],
   "source": [
    "probs = np.bincount(organite_model.cluster.predict(organs)) / len(organs) * 100\n",
    "\n",
    "probs"
   ]
  },
  {
   "cell_type": "code",
   "execution_count": null,
   "metadata": {},
   "outputs": [],
   "source": [
    "import cloudpickle\n",
    "\n",
    "\n",
    "with open(\"models/organite_clustering_probs.p\", \"wb\") as f:\n",
    "    cloudpickle.dump(probs, f)\n",
    "\n",
    "organs.to_csv(\"models/organs.csv\", compression=\"gzip\", index=None)"
   ]
  },
  {
   "cell_type": "code",
   "execution_count": null,
   "metadata": {},
   "outputs": [],
   "source": []
  },
  {
   "cell_type": "code",
   "execution_count": null,
   "metadata": {},
   "outputs": [],
   "source": []
  }
 ],
 "metadata": {
  "kernelspec": {
   "display_name": "organboard",
   "language": "python",
   "name": "organboard"
  },
  "language_info": {
   "codemirror_mode": {
    "name": "ipython",
    "version": 3
   },
   "file_extension": ".py",
   "mimetype": "text/x-python",
   "name": "python",
   "nbconvert_exporter": "python",
   "pygments_lexer": "ipython3",
   "version": "3.8.13"
  }
 },
 "nbformat": 4,
 "nbformat_minor": 4
}
