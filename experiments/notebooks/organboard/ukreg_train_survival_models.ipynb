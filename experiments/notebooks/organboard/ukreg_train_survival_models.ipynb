{
 "cells": [
  {
   "cell_type": "code",
   "execution_count": 1,
   "metadata": {},
   "outputs": [],
   "source": [
    "%reload_ext autoreload\n",
    "%autoreload 2\n",
    "\n",
    "import os, math, heapq\n",
    "\n",
    "import sys\n",
    "from pathlib import Path\n",
    "\n",
    "dir_path = Path(os.getcwd()).absolute()\n",
    "module_path = str(dir_path.parent.parent.parent)\n",
    "if module_path not in sys.path:\n",
    "    sys.path.append(module_path)\n",
    "    \n",
    "import numpy as np\n",
    "import pandas as pd\n",
    "import cvxpy as cp\n",
    "\n",
    "# OWN MODULES\n",
    "from experiments.data.data_module import UKRegDataModule\n",
    "\n",
    "import warnings\n",
    "warnings.filterwarnings('ignore')"
   ]
  },
  {
   "cell_type": "code",
   "execution_count": 2,
   "metadata": {},
   "outputs": [],
   "source": [
    "# SETUP DATA\n",
    "\n",
    "batch_size = 256\n",
    "\n",
    "root_data_dir = Path(\"../datasets\").absolute()\n",
    "\n",
    "data_dir = root_data_dir / \"processed_UKReg\" # your path to UKReg\n",
    "\n",
    "dm = UKRegDataModule(data_dir, batch_size=batch_size, control=False)\n",
    "dm.prepare_data()\n",
    "dm.setup(stage='fit')"
   ]
  },
  {
   "cell_type": "code",
   "execution_count": 3,
   "metadata": {},
   "outputs": [
    {
     "ename": "FileNotFoundError",
     "evalue": "[Errno 2] No such file or directory: 'models/organite_inference.p'",
     "output_type": "error",
     "traceback": [
      "\u001b[0;31m---------------------------------------------------------------------------\u001b[0m",
      "\u001b[0;31mFileNotFoundError\u001b[0m                         Traceback (most recent call last)",
      "Input \u001b[0;32mIn [3]\u001b[0m, in \u001b[0;36m<cell line: 4>\u001b[0;34m()\u001b[0m\n\u001b[1;32m      1\u001b[0m \u001b[38;5;28;01mimport\u001b[39;00m \u001b[38;5;21;01mcloudpickle\u001b[39;00m\n\u001b[1;32m      2\u001b[0m \u001b[38;5;28;01mimport\u001b[39;00m \u001b[38;5;21;01mtorch\u001b[39;00m\n\u001b[0;32m----> 4\u001b[0m \u001b[38;5;28;01mwith\u001b[39;00m \u001b[38;5;28;43mopen\u001b[39;49m\u001b[43m(\u001b[49m\u001b[38;5;124;43m\"\u001b[39;49m\u001b[38;5;124;43mmodels/organite_inference.p\u001b[39;49m\u001b[38;5;124;43m\"\u001b[39;49m\u001b[43m,\u001b[49m\u001b[43m \u001b[49m\u001b[38;5;124;43m\"\u001b[39;49m\u001b[38;5;124;43mrb\u001b[39;49m\u001b[38;5;124;43m\"\u001b[39;49m\u001b[43m)\u001b[49m \u001b[38;5;28;01mas\u001b[39;00m f:\n\u001b[1;32m      5\u001b[0m     organite_inf \u001b[38;5;241m=\u001b[39m cloudpickle\u001b[38;5;241m.\u001b[39mload(f)\n",
      "\u001b[0;31mFileNotFoundError\u001b[0m: [Errno 2] No such file or directory: 'models/organite_inference.p'"
     ]
    }
   ],
   "source": [
    "import cloudpickle\n",
    "import torch\n",
    "\n",
    "with open(\"models/organite_inference.p\", \"rb\") as f:\n",
    "    organite_inf = cloudpickle.load(f)"
   ]
  },
  {
   "cell_type": "code",
   "execution_count": null,
   "metadata": {},
   "outputs": [],
   "source": [
    "from adjutorium.utils.tester import evaluate_survival_estimator\n",
    "from adjutorium.plugins.prediction import Predictions\n",
    "\n",
    "predictions = Predictions(category=\"risk_estimation\")\n",
    "\n",
    "def generate_surv_data(working_df, use_organ):\n",
    "    cols = list(dm.x_cols)\n",
    "    if use_organ:\n",
    "        cols += list(dm.o_cols)\n",
    "    X = working_df[cols]\n",
    "    X = X.drop(columns = [\"CENS\"])\n",
    "    \n",
    "    T = working_df[\"Y\"]\n",
    "    T = dm.scaler.scale_[-1] * T + dm.scaler.mean_[-1]\n",
    "\n",
    "    Y = working_df[\"PCENS\"]\n",
    "\n",
    "    X = X[T > 0]\n",
    "    Y = Y[T > 0]\n",
    "    T = T[T > 0]\n",
    "    \n",
    "    return X, T, Y\n",
    "\n",
    "\n",
    "def generate_interm_surv_data(working_df, use_organ):\n",
    "    cols = list(dm.x_cols)\n",
    "    if use_organ:\n",
    "        cols += list(dm.o_cols)\n",
    "    X = working_df[cols]\n",
    "    interm_X = organite_inf.model.representation(torch.from_numpy(np.asarray(X)))\n",
    "    #X = X.drop(columns = [\"CENS\"])\n",
    "    \n",
    "    T = working_df[\"Y\"]\n",
    "    T = dm.scaler.scale_[-1] * T + dm.scaler.mean_[-1]\n",
    "\n",
    "    Y = working_df[\"PCENS\"]\n",
    "\n",
    "    X = X[T > 0]\n",
    "    Y = Y[T > 0]\n",
    "    T = T[T > 0]\n",
    "    \n",
    "    return X, T, Y\n",
    "\n",
    "full_df = dm._train_processed\n",
    "\n",
    "transplant_data = generate_surv_data(full_df[full_df[\"CENS\"] == 0], use_organ = True)\n",
    "no_transplant_data = generate_surv_data(full_df[full_df[\"CENS\"] == 1], use_organ = False)\n",
    "\n",
    "interm_transplant_data = generate_interm_surv_data(full_df[full_df[\"CENS\"] == 0], use_organ = True)\n",
    "\n",
    "full_data = generate_surv_data(full_df, use_organ = True)"
   ]
  },
  {
   "cell_type": "code",
   "execution_count": null,
   "metadata": {},
   "outputs": [],
   "source": [
    "from organsync.survival_analysis.xgboost import XGBoostRiskEstimation\n",
    "\n",
    "def eval_xgboost(X, T, Y):\n",
    "    print(\"    data cnt \", len(X))\n",
    "    surv_analysis = XGBoostRiskEstimation()\n",
    "\n",
    "    for horizon in [i * 365 for i in range(1, 5)]:\n",
    "        result = evaluate_survival_estimator(\n",
    "                surv_analysis,\n",
    "                X, T, Y, \n",
    "                [horizon], \n",
    "                n_folds=3, \n",
    "                metrics = [\"c_index\", 'brier_score']\n",
    "             )\n",
    "        print(f\"   horizon {horizon} -> score {result['str']}\")\n",
    "  \n",
    "print(\"XGBoost eval on interm data\")\n",
    "eval_xgboost(*interm_surv_data)\n",
    "\n",
    "print(\"XGBoost eval for transplant data\")\n",
    "eval_xgboost(*transplant_data)\n",
    "\n",
    "\n",
    "print(\"XGBoost eval for no transplant data\")\n",
    "eval_xgboost(*no_transplant_data)\n"
   ]
  },
  {
   "cell_type": "code",
   "execution_count": null,
   "metadata": {},
   "outputs": [],
   "source": [
    "from organsync.survival_analysis.cox_ph import CoxPH\n",
    "\n",
    "def eval_cox_ph(X, T, Y):\n",
    "    surv_analysis = CoxPH()\n",
    "\n",
    "    for horizon in [i * 365 for i in range(1, 5)]:\n",
    "        result = evaluate_survival_estimator(\n",
    "                surv_analysis,\n",
    "                X, T, Y, \n",
    "                [horizon], \n",
    "                n_folds=3, \n",
    "                metrics = [\"c_index\", 'brier_score']\n",
    "             )\n",
    "        print(f\"   horizon {horizon} -> score {result['str']}\")\n",
    "        \n",
    "\n",
    "print(\"CoxPH eval for transplant data\")\n",
    "eval_cox_ph(*transplant_data)\n",
    "\n",
    "print(\"CoxPH eval for no transplant data\")\n",
    "eval_cox_ph(*no_transplant_data)\n"
   ]
  },
  {
   "cell_type": "code",
   "execution_count": null,
   "metadata": {},
   "outputs": [],
   "source": [
    "from organsync.survival_analysis.xgboost import XGBoostRiskEstimation\n",
    "import cloudpickle\n",
    "\n",
    "\n",
    "transplant_surv_analysis = XGBoostRiskEstimation()\n",
    "transplant_surv_analysis.fit(*transplant_data)\n",
    "\n",
    "no_transplant_surv_analysis = XGBoostRiskEstimation()\n",
    "no_transplant_surv_analysis.fit(*no_transplant_data)\n",
    "\n",
    "\n",
    "with open(\"models/organite_survival.p\", \"wb\") as f:\n",
    "    cloudpickle.dump((transplant_surv_analysis, no_transplant_surv_analysis), f)\n",
    "\n"
   ]
  },
  {
   "cell_type": "code",
   "execution_count": null,
   "metadata": {},
   "outputs": [],
   "source": [
    "from organsync.survival_analysis.cox_ph import CoxPH\n",
    "import cloudpickle\n",
    "\n",
    "\n",
    "cox_transplant_surv_analysis = CoxPH()\n",
    "cox_transplant_surv_analysis.fit(*transplant_data)\n",
    "\n",
    "cox_no_transplant_surv_analysis = CoxPH()\n",
    "cox_no_transplant_surv_analysis.fit(*no_transplant_data)\n",
    "\n",
    "\n",
    "with open(\"models/cox_ph_survival.p\", \"wb\") as f:\n",
    "    cloudpickle.dump((cox_transplant_surv_analysis, cox_no_transplant_surv_analysis), f)\n",
    "\n"
   ]
  },
  {
   "cell_type": "code",
   "execution_count": null,
   "metadata": {},
   "outputs": [],
   "source": []
  },
  {
   "cell_type": "code",
   "execution_count": null,
   "metadata": {},
   "outputs": [],
   "source": []
  }
 ],
 "metadata": {
  "kernelspec": {
   "display_name": "organboard",
   "language": "python",
   "name": "organboard"
  },
  "language_info": {
   "codemirror_mode": {
    "name": "ipython",
    "version": 3
   },
   "file_extension": ".py",
   "mimetype": "text/x-python",
   "name": "python",
   "nbconvert_exporter": "python",
   "pygments_lexer": "ipython3",
   "version": "3.8.13"
  }
 },
 "nbformat": 4,
 "nbformat_minor": 4
}
