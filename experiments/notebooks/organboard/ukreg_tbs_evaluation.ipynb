{
 "cells": [
  {
   "cell_type": "code",
   "execution_count": null,
   "id": "0e1161d4",
   "metadata": {},
   "outputs": [],
   "source": [
    "import pandas as pd\n",
    "import numpy as np\n",
    "from pathlib import Path\n",
    "\n",
    "data_path = Path(\"../datasets/raw_UKReg/\")"
   ]
  },
  {
   "cell_type": "code",
   "execution_count": null,
   "id": "69471d15",
   "metadata": {},
   "outputs": [],
   "source": [
    "raw_regs = pd.read_csv(data_path / \"liver_registrations.csv\")\n",
    "\n",
    "raw_regs"
   ]
  },
  {
   "cell_type": "code",
   "execution_count": null,
   "id": "1f6d7cbc",
   "metadata": {},
   "outputs": [],
   "source": [
    "raw_trans = pd.read_csv(data_path / \"liver_transplant.csv\")\n",
    "\n",
    "raw_trans"
   ]
  },
  {
   "cell_type": "code",
   "execution_count": null,
   "id": "df1d8d60",
   "metadata": {},
   "outputs": [],
   "source": [
    "#full_df = pd.merge(raw_regs, raw_trans, left_on = 'a_registration_id', right_on = 'REGID')\n",
    "raw_regs.loc[:, 'RECIPID'] = raw_regs['a_recip_id']\n",
    "full_df = raw_regs.merge(raw_trans, how='left', on='RECIPID')\n",
    "\n",
    "full_df.loc[:, \"SERUM_POTASSIUM\"] = full_df[\"SERUM_POTASSIUM\"].replace([99.9], np.nan)\n",
    "full_df.loc[:, \"AFP_LEVEL\"] = full_df[\"AFP_LEVEL\"].replace([99999, 88888], np.nan)\n",
    "full_df.loc[full_df['outcome'].isin(['A', 'T']), 'rwtime'] = np.nan\n",
    "full_df.loc[:, 'PSURV'] = full_df['PSURV'].replace(np.nan, 0)\n",
    "full_df.loc[:, 'rwtime'] = full_df['rwtime'].replace(np.nan, 0)\n",
    "\n",
    "\n",
    "full_df = full_df[full_df['INR'].notna()]\n",
    "full_df = full_df[full_df['outcome'].notna()]\n",
    "full_df = full_df[full_df['SEX'].notna()]\n",
    "full_df = full_df[full_df['SEX'] != 8]\n",
    "full_df = full_df[full_df['SERUM_BILIRUBIN'].notna()]\n",
    "full_df = full_df[full_df['INR'].notna()]\n",
    "full_df = full_df[full_df['SERUM_CREATININE'].notna()]\n",
    "full_df = full_df[full_df['SERUM_SODIUM'].notna()]\n",
    "\n",
    "\n",
    "full_df.loc[:, 'Y'] = full_df['rwtime'] + full_df['PSURV']\n",
    "full_df = full_df[full_df['Y'] > 0]\n",
    "\n",
    "full_df[\"CENS\"] =  (full_df.outcome != 'T').astype(int)\n",
    "full_df[\"CENS\"].value_counts()"
   ]
  },
  {
   "cell_type": "code",
   "execution_count": null,
   "id": "8c426784",
   "metadata": {},
   "outputs": [],
   "source": [
    "with_transplant = full_df[full_df[\"CENS\"] == 0].copy()\n",
    "no_transplant = full_df[full_df[\"CENS\"] == 1].copy()"
   ]
  },
  {
   "cell_type": "code",
   "execution_count": null,
   "id": "e1d81e95",
   "metadata": {},
   "outputs": [],
   "source": [
    "from organsync.models.transplantbenefit import TBS"
   ]
  },
  {
   "cell_type": "code",
   "execution_count": null,
   "id": "63396d63",
   "metadata": {},
   "outputs": [],
   "source": [
    "TBS().predict(with_transplant.head(10))"
   ]
  },
  {
   "cell_type": "code",
   "execution_count": null,
   "id": "70ba9ebe",
   "metadata": {},
   "outputs": [],
   "source": []
  }
 ],
 "metadata": {
  "kernelspec": {
   "display_name": "organsync",
   "language": "python",
   "name": "organsync"
  },
  "language_info": {
   "codemirror_mode": {
    "name": "ipython",
    "version": 3
   },
   "file_extension": ".py",
   "mimetype": "text/x-python",
   "name": "python",
   "nbconvert_exporter": "python",
   "pygments_lexer": "ipython3",
   "version": "3.8.12"
  }
 },
 "nbformat": 4,
 "nbformat_minor": 5
}
