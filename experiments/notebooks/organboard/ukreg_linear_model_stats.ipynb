{
 "cells": [
  {
   "cell_type": "code",
   "execution_count": null,
   "id": "0e1161d4",
   "metadata": {},
   "outputs": [],
   "source": [
    "import pandas as pd\n",
    "import numpy as np\n",
    "from pathlib import Path\n",
    "\n",
    "data_path = Path(\"../datasets/raw_UKReg/\")"
   ]
  },
  {
   "cell_type": "code",
   "execution_count": null,
   "id": "69471d15",
   "metadata": {},
   "outputs": [],
   "source": [
    "raw_regs = pd.read_csv(data_path / \"liver_registrations.csv\")\n",
    "\n",
    "raw_regs"
   ]
  },
  {
   "cell_type": "code",
   "execution_count": null,
   "id": "1f6d7cbc",
   "metadata": {},
   "outputs": [],
   "source": [
    "raw_trans = pd.read_csv(data_path / \"liver_transplant.csv\")\n",
    "\n",
    "raw_trans"
   ]
  },
  {
   "cell_type": "code",
   "execution_count": null,
   "id": "df1d8d60",
   "metadata": {},
   "outputs": [],
   "source": [
    "#full_df = pd.merge(raw_regs, raw_trans, left_on = 'a_registration_id', right_on = 'REGID')\n",
    "raw_regs.loc[:, 'RECIPID'] = raw_regs['a_recip_id']\n",
    "full_df = raw_regs.merge(raw_trans, how='left', on='RECIPID')\n",
    "\n",
    "full_df.loc[:, \"SERUM_POTASSIUM\"] = full_df[\"SERUM_POTASSIUM\"].replace([99.9], np.nan)\n",
    "full_df.loc[:, \"AFP_LEVEL\"] = full_df[\"AFP_LEVEL\"].replace([99999, 88888], np.nan)\n",
    "full_df.loc[full_df['outcome'].isin(['A', 'T']), 'rwtime'] = np.nan\n",
    "full_df.loc[:, 'PSURV'] = full_df['PSURV'].replace(np.nan, 0)\n",
    "full_df.loc[:, 'rwtime'] = full_df['rwtime'].replace(np.nan, 0)\n",
    "\n",
    "\n",
    "full_df = full_df[full_df['INR'].notna()]\n",
    "full_df = full_df[full_df['outcome'].notna()]\n",
    "full_df = full_df[full_df['SEX'].notna()]\n",
    "full_df = full_df[full_df['SEX'] != 8]\n",
    "full_df = full_df[full_df['SERUM_BILIRUBIN'].notna()]\n",
    "full_df = full_df[full_df['INR'].notna()]\n",
    "full_df = full_df[full_df['SERUM_CREATININE'].notna()]\n",
    "full_df = full_df[full_df['SERUM_SODIUM'].notna()]\n",
    "\n",
    "\n",
    "full_df.loc[:, 'Y'] = full_df['rwtime'] + full_df['PSURV']\n",
    "full_df = full_df[full_df['Y'] > 0]\n",
    "\n",
    "full_df[\"CENS\"] =  (full_df.outcome != 'T').astype(int)\n",
    "full_df[\"CENS\"].value_counts()"
   ]
  },
  {
   "cell_type": "code",
   "execution_count": null,
   "id": "8c426784",
   "metadata": {},
   "outputs": [],
   "source": [
    "with_transplant = full_df[full_df[\"CENS\"] == 0].copy()\n",
    "no_transplant = full_df[full_df[\"CENS\"] == 1].copy()"
   ]
  },
  {
   "cell_type": "code",
   "execution_count": null,
   "id": "875af28c",
   "metadata": {},
   "outputs": [],
   "source": [
    "with_transplant"
   ]
  },
  {
   "cell_type": "code",
   "execution_count": null,
   "id": "0ff1b7fd",
   "metadata": {},
   "outputs": [],
   "source": [
    "# Helpers for data conversion\n",
    "\n",
    "\n",
    "def meld_observed_mortality(score: float) -> float:\n",
    "    if score >= 40:\n",
    "        return 71.3\n",
    "    elif score >= 30:\n",
    "        return 52.6\n",
    "    elif score >= 20:\n",
    "        return 19.6\n",
    "    elif score >= 10:\n",
    "        return 6.0\n",
    "    else:\n",
    "        return 1.9\n",
    "\n",
    "\n",
    "def ukeld_eligibility(score: float) -> int:\n",
    "    return int(score >= 49)\n",
    "\n",
    "\n",
    "def parse_bilirunbin_meld(val: float) -> float:\n",
    "    return max(val / 17.1, 1)\n",
    "\n",
    "\n",
    "def parse_bilirunbin_ukeld(val: float) -> float:\n",
    "    return max(val, 1)\n",
    "\n",
    "\n",
    "def parse_inr(val: float) -> float:\n",
    "    return max(val, 1)\n",
    "\n",
    "\n",
    "def parse_creatinine_meld(val: float) -> float:\n",
    "    val = val / 88.42\n",
    "    return min(max(val, 1), 4)\n",
    "\n",
    "\n",
    "def parse_creatinine_ukeld(val: float) -> float:\n",
    "    return min(max(val, 1), 400)\n",
    "\n",
    "\n",
    "def parse_sodium(val: float) -> float:\n",
    "    return min(max(val, 125), 140)\n",
    "\n"
   ]
  },
  {
   "cell_type": "code",
   "execution_count": null,
   "id": "1102de37",
   "metadata": {},
   "outputs": [],
   "source": [
    "# MELD\n",
    "from organsync.models.linear import MELD\n",
    "import math\n",
    "\n",
    "def meld_inference(data: pd.DataFrame) -> dict:\n",
    "    serum_bilirubin = parse_bilirunbin_meld(data[\"SERUM_BILIRUBIN\"])\n",
    "    inr = parse_inr(data[\"INR\"])\n",
    "    serum_creatinine = parse_creatinine_meld(data[\"SERUM_CREATININE\"])\n",
    "    score = MELD().score(\n",
    "        serum_bilirubin=serum_bilirubin, inr=inr, serum_creatinine=serum_creatinine\n",
    "    )\n",
    "    rounded_score = math.ceil(score)\n",
    "\n",
    "    return rounded_score\n"
   ]
  },
  {
   "cell_type": "code",
   "execution_count": null,
   "id": "740a6d33",
   "metadata": {},
   "outputs": [],
   "source": [
    "# MELD na\n",
    "\n",
    "import math\n",
    "from organsync.models.linear import MELD_na\n",
    "\n",
    "\n",
    "def meld_na_inference(data: pd.DataFrame) -> int:\n",
    "    serum_bilirubin = parse_bilirunbin_meld(data[\"SERUM_BILIRUBIN\"])\n",
    "    inr = parse_inr(data[\"INR\"])\n",
    "    serum_creatinine = parse_creatinine_meld(data[\"SERUM_CREATININE\"])\n",
    "    sodium = parse_sodium(data[\"SERUM_SODIUM\"])\n",
    "    score = MELD_na().score(\n",
    "        serum_bilirubin=serum_bilirubin,\n",
    "        inr=inr,\n",
    "        serum_creatinine=serum_creatinine,\n",
    "        serum_sodium=sodium,\n",
    "    )\n",
    "\n",
    "    return math.ceil(score)\n"
   ]
  },
  {
   "cell_type": "code",
   "execution_count": null,
   "id": "3f7c01e6",
   "metadata": {},
   "outputs": [],
   "source": [
    "#UKELD\n",
    "from organsync.models.linear import UKELD\n",
    "\n",
    "def ukeld_inference(data: pd.DataFrame) -> int:\n",
    "    serum_bilirubin = parse_bilirunbin_ukeld(data[\"SERUM_BILIRUBIN\"])\n",
    "    inr = parse_inr(data[\"INR\"])\n",
    "    serum_creatinine = parse_creatinine_ukeld(data[\"SERUM_CREATININE\"])\n",
    "    sodium = data[\"SERUM_SODIUM\"]\n",
    "\n",
    "    score = UKELD().score(\n",
    "        serum_bilirubin=serum_bilirubin,\n",
    "        inr=inr,\n",
    "        serum_creatinine=serum_creatinine,\n",
    "        serum_sodium=sodium,\n",
    "    )\n",
    "\n",
    "    return math.ceil(score)\n"
   ]
  },
  {
   "cell_type": "code",
   "execution_count": null,
   "id": "cbeea1b6",
   "metadata": {},
   "outputs": [],
   "source": [
    "#list(with_transplant.columns)\n",
    "with_transplant.loc[:, \"MELD\"] = with_transplant.apply(lambda row: meld_inference(row), axis = 1)\n",
    "no_transplant.loc[:, \"MELD\"] = no_transplant.apply(lambda row: meld_inference(row), axis = 1)"
   ]
  },
  {
   "cell_type": "code",
   "execution_count": null,
   "id": "e22c5685",
   "metadata": {},
   "outputs": [],
   "source": [
    "with_transplant.loc[:, \"MELD_na\"] = with_transplant.apply(lambda row: meld_na_inference(row), axis = 1)\n",
    "no_transplant.loc[:, \"MELD_na\"] = no_transplant.apply(lambda row: meld_na_inference(row), axis = 1)"
   ]
  },
  {
   "cell_type": "code",
   "execution_count": null,
   "id": "585790d3",
   "metadata": {},
   "outputs": [],
   "source": [
    "with_transplant.loc[:, \"UKELD\"] = with_transplant.apply(lambda row: ukeld_inference(row), axis = 1)\n",
    "no_transplant.loc[:, \"UKELD\"] = no_transplant.apply(lambda row: ukeld_inference(row), axis = 1)"
   ]
  },
  {
   "cell_type": "code",
   "execution_count": null,
   "id": "e5760ab9",
   "metadata": {},
   "outputs": [],
   "source": [
    "stats_cols = [\"MELD\", \"MELD_na\", \"UKELD\", \"Y\"]\n",
    "\n",
    "with_transplant[stats_cols]"
   ]
  },
  {
   "cell_type": "code",
   "execution_count": null,
   "id": "e2b09ad8",
   "metadata": {},
   "outputs": [],
   "source": [
    "import json\n",
    "\n",
    "\n",
    "def generate_stats(data: pd.DataFrame):\n",
    "    metrics = {}\n",
    "\n",
    "    for key in [\"MELD\", \"MELD_na\", \"UKELD\"]:\n",
    "        metrics[key] = {}\n",
    "\n",
    "        for val in data[key].unique():\n",
    "            if np.isnan(val):\n",
    "                continue\n",
    "        \n",
    "            ymed = data[data[key] == val][\"Y\"].median()\n",
    "            ymax = data[data[key] == val][\"Y\"].max()\n",
    "            ymin = data[data[key] == val][\"Y\"].min()\n",
    "\n",
    "            metrics[key][int(val)] = {\n",
    "                \"min\" : ymin,\n",
    "                \"max\" : ymax,\n",
    "                \"median\" : ymed,\n",
    "                }\n",
    "    return metrics\n",
    "\n",
    "surv_stats_with_transplant = generate_stats(with_transplant)\n",
    "surv_stats_no_transplant = generate_stats(no_transplant)"
   ]
  },
  {
   "cell_type": "code",
   "execution_count": null,
   "id": "b933aaef",
   "metadata": {},
   "outputs": [],
   "source": [
    "metrics = {\n",
    "    \"with_transplant\": surv_stats_with_transplant,\n",
    "    \"no_transplant\": surv_stats_no_transplant,\n",
    "}\n",
    "with open(\"models/model_stats.json\", \"w\") as f:\n",
    "    json.dump(metrics, f, indent=4, sort_keys=True)"
   ]
  },
  {
   "cell_type": "code",
   "execution_count": null,
   "id": "d87d9a50",
   "metadata": {},
   "outputs": [],
   "source": []
  }
 ],
 "metadata": {
  "kernelspec": {
   "display_name": "organsync",
   "language": "python",
   "name": "organsync"
  },
  "language_info": {
   "codemirror_mode": {
    "name": "ipython",
    "version": 3
   },
   "file_extension": ".py",
   "mimetype": "text/x-python",
   "name": "python",
   "nbconvert_exporter": "python",
   "pygments_lexer": "ipython3",
   "version": "3.8.12"
  }
 },
 "nbformat": 4,
 "nbformat_minor": 5
}
